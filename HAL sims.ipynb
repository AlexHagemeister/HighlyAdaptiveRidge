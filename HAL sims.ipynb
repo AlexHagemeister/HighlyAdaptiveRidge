{
 "cells": [
  {
   "cell_type": "code",
   "execution_count": 1,
   "id": "a6286fd0-06c5-4966-8e5e-a5ef9d2eb851",
   "metadata": {
    "execution": {
     "iopub.execute_input": "2023-11-07T19:55:47.607072Z",
     "iopub.status.busy": "2023-11-07T19:55:47.606725Z",
     "iopub.status.idle": "2023-11-07T19:55:47.615033Z",
     "shell.execute_reply": "2023-11-07T19:55:47.614286Z",
     "shell.execute_reply.started": "2023-11-07T19:55:47.607050Z"
    }
   },
   "outputs": [],
   "source": [
    "from sklearn.linear_model import Lasso, LassoCV, RidgeCV\n",
    "import numpy as np\n",
    "\n",
    "class HAL:\n",
    "    def __init__(self, *args, **kwargs):\n",
    "        self.lasso = LassoCV(*args, **kwargs)\n",
    "\n",
    "    def _basis_products(self, arr, index=0, current=None, result=None):\n",
    "        if result is None:\n",
    "            result = []\n",
    "        if current is None:\n",
    "            current = np.ones_like(arr[0], dtype=bool)\n",
    "\n",
    "        if index == len(arr):\n",
    "            result.append(current)\n",
    "        else:\n",
    "            self._basis_products(arr, index + 1, current & arr[index], result)\n",
    "            self._basis_products(arr, index + 1, current, result)\n",
    "\n",
    "        return result\n",
    "\n",
    "    def _bases(self, X):\n",
    "        one_way_bases = np.stack([\n",
    "            np.less.outer(self.knots[:,j], X[:,j])\n",
    "            for j in range(self.knots.shape[1])\n",
    "        ])\n",
    "        bases = self._basis_products(one_way_bases)\n",
    "        return np.concatenate(bases[:-1]).T\n",
    "\n",
    "    def fit(self, X, Y):\n",
    "        self.knots = X\n",
    "        self.lasso.fit(self._bases(X), Y) # (HᵀH + λI)^{-1}HᵀY = β\n",
    "\n",
    "    def predict(self, X):\n",
    "        return self.lasso.predict(self._bases(X)) # Hβ\n"
   ]
  },
  {
   "cell_type": "code",
   "execution_count": 2,
   "id": "6f920fab-bdef-4969-8dd2-40de30211659",
   "metadata": {
    "execution": {
     "iopub.execute_input": "2023-11-07T19:38:26.929268Z",
     "iopub.status.busy": "2023-11-07T19:38:26.928915Z",
     "iopub.status.idle": "2023-11-07T19:38:26.991952Z",
     "shell.execute_reply": "2023-11-07T19:38:26.991568Z",
     "shell.execute_reply.started": "2023-11-07T19:38:26.929246Z"
    }
   },
   "outputs": [],
   "source": [
    "import numpy as np\n",
    "\n",
    "class dgp:\n",
    "    @classmethod\n",
    "    def f(cls, X):\n",
    "        return -0.5*X[:,0] + (X[:,1] * X[:,0]**2) / 2.75 + X[:,1]\n",
    "\n",
    "    @classmethod\n",
    "    def gen(cls, n):\n",
    "        X = np.column_stack((\n",
    "            np.random.uniform(-4, 4, n),\n",
    "            np.random.binomial(1, 0.5, n),\n",
    "        ))\n",
    "        Y = cls.f(X) + np.random.normal(0, 1, n)\n",
    "        return X, Y"
   ]
  },
  {
   "cell_type": "code",
   "execution_count": 3,
   "id": "bb1db3fe-f02e-4a2c-9551-2c48671f7251",
   "metadata": {
    "execution": {
     "iopub.execute_input": "2023-11-07T19:55:59.641552Z",
     "iopub.status.busy": "2023-11-07T19:55:59.640794Z",
     "iopub.status.idle": "2023-11-07T19:55:59.646582Z",
     "shell.execute_reply": "2023-11-07T19:55:59.645869Z",
     "shell.execute_reply.started": "2023-11-07T19:55:59.641516Z"
    }
   },
   "outputs": [],
   "source": [
    "X,Y = dgp.gen(100)\n",
    "X_test, Y_test = dgp.gen(10000)"
   ]
  },
  {
   "cell_type": "code",
   "execution_count": 4,
   "id": "3b8a605c-030f-439a-a40f-03c90735a0b9",
   "metadata": {
    "execution": {
     "iopub.execute_input": "2023-11-07T19:56:44.728874Z",
     "iopub.status.busy": "2023-11-07T19:56:44.728248Z",
     "iopub.status.idle": "2023-11-07T19:56:44.734074Z",
     "shell.execute_reply": "2023-11-07T19:56:44.733363Z",
     "shell.execute_reply.started": "2023-11-07T19:56:44.728850Z"
    }
   },
   "outputs": [
    {
     "data": {
      "text/plain": [
       "array([0.81515355, 0.76021493, 0.70897899, 0.66119617, 0.61663377,\n",
       "       0.57507471, 0.5363166 , 0.50017066, 0.46646083, 0.43502293,\n",
       "       0.40570384, 0.37836076, 0.35286051, 0.32907889, 0.30690008,\n",
       "       0.28621604, 0.26692604, 0.24893612, 0.23215865, 0.21651194,\n",
       "       0.20191976, 0.18831104, 0.17561951, 0.16378334, 0.15274489,\n",
       "       0.1424504 , 0.13284972, 0.12389609, 0.11554591, 0.1077585 ,\n",
       "       0.10049594, 0.09372285, 0.08740624, 0.08151535, 0.07602149,\n",
       "       0.0708979 , 0.06611962, 0.06166338, 0.05750747, 0.05363166,\n",
       "       0.05001707, 0.04664608, 0.04350229, 0.04057038, 0.03783608,\n",
       "       0.03528605, 0.03290789, 0.03069001, 0.0286216 , 0.0266926 ,\n",
       "       0.02489361, 0.02321587, 0.02165119, 0.02019198, 0.0188311 ,\n",
       "       0.01756195, 0.01637833, 0.01527449, 0.01424504, 0.01328497,\n",
       "       0.01238961, 0.01155459, 0.01077585, 0.01004959, 0.00937228,\n",
       "       0.00874062, 0.00815154, 0.00760215, 0.00708979, 0.00661196,\n",
       "       0.00616634, 0.00575075, 0.00536317, 0.00500171, 0.00466461,\n",
       "       0.00435023, 0.00405704, 0.00378361, 0.00352861, 0.00329079,\n",
       "       0.003069  , 0.00286216, 0.00266926, 0.00248936, 0.00232159,\n",
       "       0.00216512, 0.0020192 , 0.00188311, 0.0017562 , 0.00163783,\n",
       "       0.00152745, 0.0014245 , 0.0013285 , 0.00123896, 0.00115546,\n",
       "       0.00107759, 0.00100496, 0.00093723, 0.00087406, 0.00081515])"
      ]
     },
     "execution_count": 4,
     "metadata": {},
     "output_type": "execute_result"
    }
   ],
   "source": [
    "model = HAL()\n",
    "model.fit(X,Y)\n",
    "model.lasso.alphas_"
   ]
  },
  {
   "cell_type": "code",
   "execution_count": 5,
   "id": "242d229a-5437-43e6-920c-8fd360f9a43f",
   "metadata": {
    "execution": {
     "iopub.execute_input": "2023-11-07T19:56:54.503828Z",
     "iopub.status.busy": "2023-11-07T19:56:54.503472Z",
     "iopub.status.idle": "2023-11-07T19:56:54.508911Z",
     "shell.execute_reply": "2023-11-07T19:56:54.508275Z",
     "shell.execute_reply.started": "2023-11-07T19:56:54.503802Z"
    }
   },
   "outputs": [
    {
     "data": {
      "text/plain": [
       "0.014245039754648126"
      ]
     },
     "execution_count": 5,
     "metadata": {},
     "output_type": "execute_result"
    }
   ],
   "source": [
    "model.lasso.alpha_"
   ]
  },
  {
   "cell_type": "code",
   "execution_count": 6,
   "id": "1cbe5159-e089-4375-8cc2-9cbb61243548",
   "metadata": {
    "execution": {
     "iopub.execute_input": "2023-11-07T19:56:00.241081Z",
     "iopub.status.busy": "2023-11-07T19:56:00.240769Z",
     "iopub.status.idle": "2023-11-07T19:56:06.264620Z",
     "shell.execute_reply": "2023-11-07T19:56:06.264293Z",
     "shell.execute_reply.started": "2023-11-07T19:56:00.241061Z"
    }
   },
   "outputs": [],
   "source": [
    "model = HAL()\n",
    "model.fit(X,Y)"
   ]
  },
  {
   "cell_type": "code",
   "execution_count": 7,
   "id": "fbb1b602-f94a-4864-939a-a0234b821b86",
   "metadata": {
    "execution": {
     "iopub.execute_input": "2023-11-07T19:56:08.290390Z",
     "iopub.status.busy": "2023-11-07T19:56:08.289839Z",
     "iopub.status.idle": "2023-11-07T19:56:08.307500Z",
     "shell.execute_reply": "2023-11-07T19:56:08.306907Z",
     "shell.execute_reply.started": "2023-11-07T19:56:08.290343Z"
    }
   },
   "outputs": [],
   "source": [
    "Ŷ = model.predict(X_test)"
   ]
  },
  {
   "cell_type": "code",
   "execution_count": 8,
   "id": "cc5af46b-383d-44f3-8ad7-7141c5cecd9c",
   "metadata": {
    "execution": {
     "iopub.execute_input": "2023-11-07T19:56:08.739818Z",
     "iopub.status.busy": "2023-11-07T19:56:08.739183Z",
     "iopub.status.idle": "2023-11-07T19:56:08.745327Z",
     "shell.execute_reply": "2023-11-07T19:56:08.744676Z",
     "shell.execute_reply.started": "2023-11-07T19:56:08.739792Z"
    }
   },
   "outputs": [
    {
     "data": {
      "text/plain": [
       "1.354553701520526"
      ]
     },
     "execution_count": 8,
     "metadata": {},
     "output_type": "execute_result"
    }
   ],
   "source": [
    "np.mean((Y_test - Ŷ)**2)"
   ]
  },
  {
   "cell_type": "code",
   "execution_count": null,
   "id": "29a1e136-fd01-41ee-ac89-b6f213fe662e",
   "metadata": {},
   "outputs": [],
   "source": []
  },
  {
   "cell_type": "code",
   "execution_count": 9,
   "id": "7c1ae37f-6aef-425e-9824-e02583969804",
   "metadata": {
    "execution": {
     "iopub.execute_input": "2023-11-07T19:45:34.710818Z",
     "iopub.status.busy": "2023-11-07T19:45:34.710420Z",
     "iopub.status.idle": "2023-11-07T19:45:34.722649Z",
     "shell.execute_reply": "2023-11-07T19:45:34.722181Z",
     "shell.execute_reply.started": "2023-11-07T19:45:34.710794Z"
    }
   },
   "outputs": [],
   "source": [
    "model = HAL()\n",
    "model.fit(X,Y)"
   ]
  },
  {
   "cell_type": "code",
   "execution_count": 10,
   "id": "70809715-b6e1-4b89-8a4f-e85de11fc734",
   "metadata": {
    "execution": {
     "iopub.execute_input": "2023-11-07T19:45:37.027312Z",
     "iopub.status.busy": "2023-11-07T19:45:37.026842Z",
     "iopub.status.idle": "2023-11-07T19:45:37.042175Z",
     "shell.execute_reply": "2023-11-07T19:45:37.041535Z",
     "shell.execute_reply.started": "2023-11-07T19:45:37.027279Z"
    }
   },
   "outputs": [],
   "source": [
    "Ŷ = model.predict(X_test)"
   ]
  },
  {
   "cell_type": "code",
   "execution_count": 11,
   "id": "48d78f1d-5b24-4af3-85db-f1894183d025",
   "metadata": {
    "execution": {
     "iopub.execute_input": "2023-11-07T19:45:38.380519Z",
     "iopub.status.busy": "2023-11-07T19:45:38.380024Z",
     "iopub.status.idle": "2023-11-07T19:45:38.386251Z",
     "shell.execute_reply": "2023-11-07T19:45:38.385502Z",
     "shell.execute_reply.started": "2023-11-07T19:45:38.380483Z"
    }
   },
   "outputs": [
    {
     "data": {
      "text/plain": [
       "1.354553701520526"
      ]
     },
     "execution_count": 11,
     "metadata": {},
     "output_type": "execute_result"
    }
   ],
   "source": [
    "np.mean((Y_test - Ŷ)**2)"
   ]
  }
 ],
 "metadata": {
  "kernelspec": {
   "display_name": "Python 3 (ipykernel)",
   "language": "python",
   "name": "python3"
  },
  "language_info": {
   "codemirror_mode": {
    "name": "ipython",
    "version": 3
   },
   "file_extension": ".py",
   "mimetype": "text/x-python",
   "name": "python",
   "nbconvert_exporter": "python",
   "pygments_lexer": "ipython3",
   "version": "3.11.6"
  }
 },
 "nbformat": 4,
 "nbformat_minor": 5
}
