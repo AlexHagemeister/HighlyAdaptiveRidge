{
 "cells": [
  {
   "cell_type": "markdown",
   "id": "63021c2c",
   "metadata": {},
   "source": [
    "Hal class definition"
   ]
  },
  {
   "cell_type": "code",
   "execution_count": 2,
   "id": "a6286fd0-06c5-4966-8e5e-a5ef9d2eb851",
   "metadata": {
    "execution": {
     "iopub.execute_input": "2023-11-07T19:55:47.607072Z",
     "iopub.status.busy": "2023-11-07T19:55:47.606725Z",
     "iopub.status.idle": "2023-11-07T19:55:47.615033Z",
     "shell.execute_reply": "2023-11-07T19:55:47.614286Z",
     "shell.execute_reply.started": "2023-11-07T19:55:47.607050Z"
    }
   },
   "outputs": [],
   "source": [
    "# Highly Adaptive Lasso\n",
    "\n",
    "from sklearn.linear_model import Lasso, LassoCV, RidgeCV\n",
    "import numpy as np\n",
    "from data_generator import DataGenerator\n",
    "from highly_adaptive_lasso import HAL\n"
   ]
  },
  {
   "cell_type": "code",
   "execution_count": 4,
   "id": "bb1db3fe-f02e-4a2c-9551-2c48671f7251",
   "metadata": {
    "execution": {
     "iopub.execute_input": "2023-11-07T19:55:59.641552Z",
     "iopub.status.busy": "2023-11-07T19:55:59.640794Z",
     "iopub.status.idle": "2023-11-07T19:55:59.646582Z",
     "shell.execute_reply": "2023-11-07T19:55:59.645869Z",
     "shell.execute_reply.started": "2023-11-07T19:55:59.641516Z"
    }
   },
   "outputs": [],
   "source": [
    "X,Y = DataGenerator.generate_data(100)\n",
    "X_test, Y_test = DataGenerator.generate_data(10000)"
   ]
  },
  {
   "cell_type": "code",
   "execution_count": null,
   "id": "3b8a605c-030f-439a-a40f-03c90735a0b9",
   "metadata": {
    "execution": {
     "iopub.execute_input": "2023-11-07T19:56:44.728874Z",
     "iopub.status.busy": "2023-11-07T19:56:44.728248Z",
     "iopub.status.idle": "2023-11-07T19:56:44.734074Z",
     "shell.execute_reply": "2023-11-07T19:56:44.733363Z",
     "shell.execute_reply.started": "2023-11-07T19:56:44.728850Z"
    }
   },
   "outputs": [],
   "source": [
    "model = HAL()\n",
    "model.fit(X,Y)\n",
    "\n",
    "\n",
    "# this displays the alpha values that were used in the LassoCV\n",
    "# NOTE: alpha refers to the regularization parameter (?)\n",
    "# TODO: Ask Alejandro about this\n",
    "model.lasso.alphas_"
   ]
  },
  {
   "cell_type": "code",
   "execution_count": 7,
   "id": "242d229a-5437-43e6-920c-8fd360f9a43f",
   "metadata": {
    "execution": {
     "iopub.execute_input": "2023-11-07T19:56:54.503828Z",
     "iopub.status.busy": "2023-11-07T19:56:54.503472Z",
     "iopub.status.idle": "2023-11-07T19:56:54.508911Z",
     "shell.execute_reply": "2023-11-07T19:56:54.508275Z",
     "shell.execute_reply.started": "2023-11-07T19:56:54.503802Z"
    }
   },
   "outputs": [
    {
     "data": {
      "text/plain": [
       "0.01176450890413735"
      ]
     },
     "execution_count": 7,
     "metadata": {},
     "output_type": "execute_result"
    }
   ],
   "source": [
    "\n",
    "model.lasso.alpha_"
   ]
  },
  {
   "cell_type": "code",
   "execution_count": null,
   "id": "1cbe5159-e089-4375-8cc2-9cbb61243548",
   "metadata": {
    "execution": {
     "iopub.execute_input": "2023-11-07T19:56:00.241081Z",
     "iopub.status.busy": "2023-11-07T19:56:00.240769Z",
     "iopub.status.idle": "2023-11-07T19:56:06.264620Z",
     "shell.execute_reply": "2023-11-07T19:56:06.264293Z",
     "shell.execute_reply.started": "2023-11-07T19:56:00.241061Z"
    }
   },
   "outputs": [],
   "source": [
    "model = HAL()\n",
    "model.fit(X,Y)"
   ]
  },
  {
   "cell_type": "code",
   "execution_count": null,
   "id": "fbb1b602-f94a-4864-939a-a0234b821b86",
   "metadata": {
    "execution": {
     "iopub.execute_input": "2023-11-07T19:56:08.290390Z",
     "iopub.status.busy": "2023-11-07T19:56:08.289839Z",
     "iopub.status.idle": "2023-11-07T19:56:08.307500Z",
     "shell.execute_reply": "2023-11-07T19:56:08.306907Z",
     "shell.execute_reply.started": "2023-11-07T19:56:08.290343Z"
    }
   },
   "outputs": [],
   "source": [
    "Ŷ = model.predict(X_test)"
   ]
  },
  {
   "cell_type": "code",
   "execution_count": null,
   "id": "cc5af46b-383d-44f3-8ad7-7141c5cecd9c",
   "metadata": {
    "execution": {
     "iopub.execute_input": "2023-11-07T19:56:08.739818Z",
     "iopub.status.busy": "2023-11-07T19:56:08.739183Z",
     "iopub.status.idle": "2023-11-07T19:56:08.745327Z",
     "shell.execute_reply": "2023-11-07T19:56:08.744676Z",
     "shell.execute_reply.started": "2023-11-07T19:56:08.739792Z"
    }
   },
   "outputs": [
    {
     "data": {
      "text/plain": [
       "1.354553701520526"
      ]
     },
     "execution_count": 8,
     "metadata": {},
     "output_type": "execute_result"
    }
   ],
   "source": [
    "np.mean((Y_test - Ŷ)**2)"
   ]
  }
 ],
 "metadata": {
  "kernelspec": {
   "display_name": "Python 3 (ipykernel)",
   "language": "python",
   "name": "python3"
  },
  "language_info": {
   "codemirror_mode": {
    "name": "ipython",
    "version": 3
   },
   "file_extension": ".py",
   "mimetype": "text/x-python",
   "name": "python",
   "nbconvert_exporter": "python",
   "pygments_lexer": "ipython3",
   "version": "3.11.6"
  }
 },
 "nbformat": 4,
 "nbformat_minor": 5
}
