{
 "cells": [
  {
   "cell_type": "code",
   "execution_count": 1,
   "id": "a6286fd0-06c5-4966-8e5e-a5ef9d2eb851",
   "metadata": {
    "execution": {
     "iopub.execute_input": "2023-11-07T19:55:47.607072Z",
     "iopub.status.busy": "2023-11-07T19:55:47.606725Z",
     "iopub.status.idle": "2023-11-07T19:55:47.615033Z",
     "shell.execute_reply": "2023-11-07T19:55:47.614286Z",
     "shell.execute_reply.started": "2023-11-07T19:55:47.607050Z"
    }
   },
   "outputs": [],
   "source": [
    "from sklearn.linear_model import Lasso, LassoCV, RidgeCV\n",
    "import numpy as np\n",
    "\n",
    "class HAL:\n",
    "    def __init__(self, *args, **kwargs):\n",
    "        self.lasso = LassoCV(*args, **kwargs)\n",
    "\n",
    "    def _basis_products(self, arr, index=0, current=None, result=None):\n",
    "        if result is None:\n",
    "            result = []\n",
    "        if current is None:\n",
    "            current = np.ones_like(arr[0], dtype=bool)\n",
    "\n",
    "        if index == len(arr):\n",
    "            result.append(current)\n",
    "        else:\n",
    "            self._basis_products(arr, index + 1, current & arr[index], result)\n",
    "            self._basis_products(arr, index + 1, current, result)\n",
    "\n",
    "        return result\n",
    "\n",
    "    def _bases(self, X):\n",
    "        one_way_bases = np.stack([\n",
    "            np.less.outer(self.knots[:,j], X[:,j])\n",
    "            for j in range(self.knots.shape[1])\n",
    "        ])\n",
    "        bases = self._basis_products(one_way_bases)\n",
    "        return np.concatenate(bases[:-1]).T\n",
    "\n",
    "    def fit(self, X, Y):\n",
    "        self.knots = X\n",
    "        self.lasso.fit(self._bases(X), Y) # (HᵀH + λI)^{-1}HᵀY = β\n",
    "\n",
    "    def predict(self, X):\n",
    "        return self.lasso.predict(self._bases(X)) # Hβ\n"
   ]
  },
  {
   "cell_type": "code",
   "execution_count": 2,
   "id": "6f920fab-bdef-4969-8dd2-40de30211659",
   "metadata": {
    "execution": {
     "iopub.execute_input": "2023-11-07T19:38:26.929268Z",
     "iopub.status.busy": "2023-11-07T19:38:26.928915Z",
     "iopub.status.idle": "2023-11-07T19:38:26.991952Z",
     "shell.execute_reply": "2023-11-07T19:38:26.991568Z",
     "shell.execute_reply.started": "2023-11-07T19:38:26.929246Z"
    }
   },
   "outputs": [],
   "source": [
    "import numpy as np\n",
    "\n",
    "class dgp:\n",
    "    @classmethod\n",
    "    def f(cls, X):\n",
    "        return -0.5*X[:,0] + (X[:,1] * X[:,0]**2) / 2.75 + X[:,1]\n",
    "\n",
    "    @classmethod\n",
    "    def gen(cls, n):\n",
    "        X = np.column_stack((\n",
    "            np.random.uniform(-4, 4, n),\n",
    "            np.random.binomial(1, 0.5, n),\n",
    "        ))\n",
    "        Y = cls.f(X) + np.random.normal(0, 1, n)\n",
    "        return X, Y"
   ]
  },
  {
   "cell_type": "code",
   "execution_count": 3,
   "id": "bb1db3fe-f02e-4a2c-9551-2c48671f7251",
   "metadata": {
    "execution": {
     "iopub.execute_input": "2023-11-07T19:55:59.641552Z",
     "iopub.status.busy": "2023-11-07T19:55:59.640794Z",
     "iopub.status.idle": "2023-11-07T19:55:59.646582Z",
     "shell.execute_reply": "2023-11-07T19:55:59.645869Z",
     "shell.execute_reply.started": "2023-11-07T19:55:59.641516Z"
    }
   },
   "outputs": [],
   "source": [
    "X,Y = dgp.gen(100)\n",
    "X_test, Y_test = dgp.gen(10000)"
   ]
  },
  {
   "cell_type": "code",
   "execution_count": 4,
   "id": "3b8a605c-030f-439a-a40f-03c90735a0b9",
   "metadata": {
    "execution": {
     "iopub.execute_input": "2023-11-07T19:56:44.728874Z",
     "iopub.status.busy": "2023-11-07T19:56:44.728248Z",
     "iopub.status.idle": "2023-11-07T19:56:44.734074Z",
     "shell.execute_reply": "2023-11-07T19:56:44.733363Z",
     "shell.execute_reply.started": "2023-11-07T19:56:44.728850Z"
    }
   },
   "outputs": [
    {
     "data": {
      "text/plain": [
       "array([0.75953377, 0.70834373, 0.66060374, 0.61608126, 0.57455944,\n",
       "       0.53583606, 0.4997225 , 0.46604288, 0.43463315, 0.40534033,\n",
       "       0.37802175, 0.35254435, 0.32878404, 0.30662509, 0.28595959,\n",
       "       0.26668687, 0.24871307, 0.23195064, 0.21631794, 0.20173884,\n",
       "       0.18814231, 0.17546215, 0.16363659, 0.15260803, 0.14232276,\n",
       "       0.13273068, 0.12378508, 0.11544238, 0.10766195, 0.10040589,\n",
       "       0.09363887, 0.08732793, 0.08144232, 0.07595338, 0.07083437,\n",
       "       0.06606037, 0.06160813, 0.05745594, 0.05358361, 0.04997225,\n",
       "       0.04660429, 0.04346331, 0.04053403, 0.03780217, 0.03525443,\n",
       "       0.0328784 , 0.03066251, 0.02859596, 0.02666869, 0.02487131,\n",
       "       0.02319506, 0.02163179, 0.02017388, 0.01881423, 0.01754622,\n",
       "       0.01636366, 0.0152608 , 0.01423228, 0.01327307, 0.01237851,\n",
       "       0.01154424, 0.01076619, 0.01004059, 0.00936389, 0.00873279,\n",
       "       0.00814423, 0.00759534, 0.00708344, 0.00660604, 0.00616081,\n",
       "       0.00574559, 0.00535836, 0.00499723, 0.00466043, 0.00434633,\n",
       "       0.0040534 , 0.00378022, 0.00352544, 0.00328784, 0.00306625,\n",
       "       0.0028596 , 0.00266687, 0.00248713, 0.00231951, 0.00216318,\n",
       "       0.00201739, 0.00188142, 0.00175462, 0.00163637, 0.00152608,\n",
       "       0.00142323, 0.00132731, 0.00123785, 0.00115442, 0.00107662,\n",
       "       0.00100406, 0.00093639, 0.00087328, 0.00081442, 0.00075953])"
      ]
     },
     "execution_count": 4,
     "metadata": {},
     "output_type": "execute_result"
    }
   ],
   "source": [
    "model = HAL()\n",
    "model.fit(X,Y)\n",
    "model.lasso.alphas_"
   ]
  },
  {
   "cell_type": "code",
   "execution_count": 5,
   "id": "242d229a-5437-43e6-920c-8fd360f9a43f",
   "metadata": {
    "execution": {
     "iopub.execute_input": "2023-11-07T19:56:54.503828Z",
     "iopub.status.busy": "2023-11-07T19:56:54.503472Z",
     "iopub.status.idle": "2023-11-07T19:56:54.508911Z",
     "shell.execute_reply": "2023-11-07T19:56:54.508275Z",
     "shell.execute_reply.started": "2023-11-07T19:56:54.503802Z"
    }
   },
   "outputs": [
    {
     "data": {
      "text/plain": [
       "0.02319506383965411"
      ]
     },
     "execution_count": 5,
     "metadata": {},
     "output_type": "execute_result"
    }
   ],
   "source": [
    "model.lasso.alpha_"
   ]
  },
  {
   "cell_type": "code",
   "execution_count": null,
   "id": "1cbe5159-e089-4375-8cc2-9cbb61243548",
   "metadata": {
    "execution": {
     "iopub.execute_input": "2023-11-07T19:56:00.241081Z",
     "iopub.status.busy": "2023-11-07T19:56:00.240769Z",
     "iopub.status.idle": "2023-11-07T19:56:06.264620Z",
     "shell.execute_reply": "2023-11-07T19:56:06.264293Z",
     "shell.execute_reply.started": "2023-11-07T19:56:00.241061Z"
    }
   },
   "outputs": [],
   "source": [
    "model = HAL()\n",
    "model.fit(X,Y)"
   ]
  },
  {
   "cell_type": "code",
   "execution_count": null,
   "id": "fbb1b602-f94a-4864-939a-a0234b821b86",
   "metadata": {
    "execution": {
     "iopub.execute_input": "2023-11-07T19:56:08.290390Z",
     "iopub.status.busy": "2023-11-07T19:56:08.289839Z",
     "iopub.status.idle": "2023-11-07T19:56:08.307500Z",
     "shell.execute_reply": "2023-11-07T19:56:08.306907Z",
     "shell.execute_reply.started": "2023-11-07T19:56:08.290343Z"
    }
   },
   "outputs": [],
   "source": [
    "Ŷ = model.predict(X_test)"
   ]
  },
  {
   "cell_type": "code",
   "execution_count": null,
   "id": "cc5af46b-383d-44f3-8ad7-7141c5cecd9c",
   "metadata": {
    "execution": {
     "iopub.execute_input": "2023-11-07T19:56:08.739818Z",
     "iopub.status.busy": "2023-11-07T19:56:08.739183Z",
     "iopub.status.idle": "2023-11-07T19:56:08.745327Z",
     "shell.execute_reply": "2023-11-07T19:56:08.744676Z",
     "shell.execute_reply.started": "2023-11-07T19:56:08.739792Z"
    }
   },
   "outputs": [
    {
     "data": {
      "text/plain": [
       "1.354553701520526"
      ]
     },
     "execution_count": 8,
     "metadata": {},
     "output_type": "execute_result"
    }
   ],
   "source": [
    "np.mean((Y_test - Ŷ)**2)"
   ]
  }
 ],
 "metadata": {
  "kernelspec": {
   "display_name": "Python 3 (ipykernel)",
   "language": "python",
   "name": "python3"
  },
  "language_info": {
   "codemirror_mode": {
    "name": "ipython",
    "version": 3
   },
   "file_extension": ".py",
   "mimetype": "text/x-python",
   "name": "python",
   "nbconvert_exporter": "python",
   "pygments_lexer": "ipython3",
   "version": "3.11.6"
  }
 },
 "nbformat": 4,
 "nbformat_minor": 5
}
