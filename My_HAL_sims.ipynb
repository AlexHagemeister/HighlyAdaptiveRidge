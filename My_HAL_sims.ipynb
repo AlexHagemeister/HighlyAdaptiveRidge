{
 "cells": [
  {
   "cell_type": "markdown",
   "id": "63021c2c",
   "metadata": {},
   "source": [
    "# Highly Adaptive Models Comparison Project\n",
    "\n",
    "## Overview\n",
    "\n",
    "This project aims to empirically compare the performance of two statistical models: the Highly Adaptive Lasso (HAL) and Highly Adaptive Ridge (HAR) in high-dimensional data analysis. Both models are variants of regularization techniques used in regression and machine learning to prevent overfitting by adding a penalty to the loss function. The focus is on evaluating these models in terms of computational efficiency, prediction accuracy, and the effectiveness of regularization under various conditions.\n",
    "\n",
    "## Goals\n",
    "\n",
    "1. **Empirical Comparison**: Conduct a thorough empirical comparison between HAL and HAR models to assess their performance on high-dimensional datasets.\n",
    "2. **Computation Time**: Evaluate and compare the computation times required by each model to fit the data, providing insights into their efficiency.\n",
    "3. **Prediction Accuracy**: Use metrics such as Mean Squared Error (MSE) to compare the prediction accuracy of the models across different dataset sizes and conditions.\n",
    "4. **Regularization Effectiveness**: Examine how cross-validation techniques control the regularization parameters in both models, focusing on the L1 norm control in HAR despite its explicit use of L2 regularization.\n",
    "5. **Scalability**: Assess how each model scales with increasing data dimensions, offering insights into their applicability to real-world, high-dimensional datasets.\n",
    "\n",
    "## Methodology\n",
    "\n",
    "The project utilizes a simulation-based approach to generate synthetic datasets with controllable features such as the number of samples, number of features, and the level of noise. The simulation involves:\n",
    "\n",
    "- Generating datasets using the DGP classes in `generators.py`.\n",
    "- Fitting both HAL and HAR models to these datasets.\n",
    "- Evaluating model performance using cross-validation and calculating MSE on a test set.\n",
    "- Repeating the process for various dataset sizes to gather comprehensive performance data.\n",
    "\n",
    "## Results Analysis\n",
    "\n",
    "The simulation results will be analyzed and visualized to compare the computation time and MSE of HAL and HAR models. This analysis aims to provide a clear understanding of each model's strengths and limitations, particularly regarding their efficiency and accuracy in handling high-dimensional data.\n",
    "\n"
   ]
  },
  {
   "cell_type": "markdown",
   "id": "97a653fb",
   "metadata": {},
   "source": [
    "# TODOs\n",
    "\n",
    "- split up for each dgp\n",
    "- "
   ]
  },
  {
   "cell_type": "markdown",
   "id": "10485756",
   "metadata": {},
   "source": [
    "# 1.0) Setup\n"
   ]
  },
  {
   "cell_type": "code",
   "execution_count": 1,
   "id": "a6286fd0-06c5-4966-8e5e-a5ef9d2eb851",
   "metadata": {
    "execution": {
     "iopub.execute_input": "2023-11-07T19:55:47.607072Z",
     "iopub.status.busy": "2023-11-07T19:55:47.606725Z",
     "iopub.status.idle": "2023-11-07T19:55:47.615033Z",
     "shell.execute_reply": "2023-11-07T19:55:47.614286Z",
     "shell.execute_reply.started": "2023-11-07T19:55:47.607050Z"
    }
   },
   "outputs": [
    {
     "name": "stderr",
     "output_type": "stream",
     "text": [
      "/var/folders/ym/50f9gfp105v6t4xqyx661zb80000gn/T/ipykernel_41910/4110712141.py:6: DeprecationWarning: \n",
      "Pyarrow will become a required dependency of pandas in the next major release of pandas (pandas 3.0),\n",
      "(to allow more performant data types, such as the Arrow string type, and better interoperability with other libraries)\n",
      "but was not found to be installed on your system.\n",
      "If this would cause problems for you,\n",
      "please provide us feedback at https://github.com/pandas-dev/pandas/issues/54466\n",
      "        \n",
      "  import pandas as pd\n"
     ]
    }
   ],
   "source": [
    "from highly_adaptive_lasso import HAL\n",
    "from highly_adaptive_ridge import HAR\n",
    "import numpy as np\n",
    "from data_generators import DataGenerator, SmoothDataGenerator, JumpDataGenerator, SinusoidalDataGenerator\n",
    "from sklearn.model_selection import train_test_split\n",
    "import pandas as pd \n",
    "import matplotlib.pyplot as plt"
   ]
  },
  {
   "cell_type": "markdown",
   "id": "3286021e",
   "metadata": {},
   "source": [
    "Let's generate some data!"
   ]
  },
  {
   "cell_type": "code",
   "execution_count": 2,
   "id": "87668dd1",
   "metadata": {},
   "outputs": [],
   "source": [
    "# Performance metric R^2 as defined in HAL paper \n",
    "def calculate_r_squared(Y, Y_hat):\n",
    "    ss_res = np.sum((Y - Y_hat) ** 2)\n",
    "    ss_tot = np.sum((Y - np.mean(Y)) ** 2)\n",
    "    r_squared = 1 - (ss_res / ss_tot)\n",
    "    return r_squared"
   ]
  },
  {
   "cell_type": "markdown",
   "id": "8af8f6fe",
   "metadata": {},
   "source": [
    "# 2.0: Fixed N, varying d $ \\in $ {1, 3, 5}\n",
    "\n",
    "For each d, averaging training time, MSE, and $ R^2 $ across smooth, jump, and sinusoidal data. "
   ]
  },
  {
   "cell_type": "code",
   "execution_count": 6,
   "id": "bb1db3fe-f02e-4a2c-9551-2c48671f7251",
   "metadata": {
    "execution": {
     "iopub.execute_input": "2023-11-07T19:55:59.641552Z",
     "iopub.status.busy": "2023-11-07T19:55:59.640794Z",
     "iopub.status.idle": "2023-11-07T19:55:59.646582Z",
     "shell.execute_reply": "2023-11-07T19:55:59.645869Z",
     "shell.execute_reply.started": "2023-11-07T19:55:59.641516Z"
    }
   },
   "outputs": [
    {
     "name": "stdout",
     "output_type": "stream",
     "text": [
      "Running for SmoothDataGenerator\n",
      "\t Running for d=1\n",
      "\t\t HAL \t\t HAR\n",
      "\t Time: \t 0.01243 \t 0.00106\n",
      "\t MSE: \t 1.29997 \t 1.28963\n",
      "\t R^2: \t 0.07117 \t 0.07856\n",
      "--------------------------------------------------\n",
      "\t Running for d=3\n",
      "\t\t HAL \t\t HAR\n",
      "\t Time: \t 0.01127 \t 0.00047\n",
      "\t MSE: \t 2.61249 \t 2.44721\n",
      "\t R^2: \t -0.00503 \t 0.05856\n",
      "--------------------------------------------------\n",
      "\t Running for d=5\n",
      "\t\t HAL \t\t HAR\n",
      "\t Time: \t 0.01666 \t 0.00743\n",
      "\t MSE: \t 8.22785 \t 5.79829\n",
      "\t R^2: \t -0.36369 \t 0.03899\n",
      "--------------------------------------------------\n",
      "Running for JumpDataGenerator\n",
      "\t Running for d=1\n",
      "\t\t HAL \t\t HAR\n",
      "\t Time: \t 0.01544 \t 0.00044\n",
      "\t MSE: \t 1.09853 \t 1.16686\n",
      "\t R^2: \t -0.19928 \t -0.27387\n",
      "--------------------------------------------------\n",
      "\t Running for d=3\n",
      "\t\t HAL \t\t HAR\n",
      "\t Time: \t 0.02141 \t 0.00727\n",
      "\t MSE: \t 4.28742 \t 4.03369\n",
      "\t R^2: \t -0.6679 \t -0.56919\n",
      "--------------------------------------------------\n",
      "\t Running for d=5\n",
      "\t\t HAL \t\t HAR\n",
      "\t Time: \t 0.02687 \t 0.0005\n",
      "\t MSE: \t 6.92057 \t 5.24155\n",
      "\t R^2: \t -0.60445 \t -0.21519\n",
      "--------------------------------------------------\n",
      "Running for SinusoidalDataGenerator\n",
      "\t Running for d=1\n",
      "\t\t HAL \t\t HAR\n",
      "\t Time: \t 0.00762 \t 0.00037\n",
      "\t MSE: \t 0.87959 \t 0.91567\n",
      "\t R^2: \t -0.00046 \t -0.04149\n",
      "--------------------------------------------------\n",
      "\t Running for d=3\n",
      "\t\t HAL \t\t HAR\n",
      "\t Time: \t 0.0101 \t 0.00038\n",
      "\t MSE: \t 1.89649 \t 2.71882\n",
      "\t R^2: \t 0.53138 \t 0.32818\n",
      "--------------------------------------------------\n",
      "\t Running for d=5\n",
      "\t\t HAL \t\t HAR\n",
      "\t Time: \t 0.01548 \t 0.00041\n",
      "\t MSE: \t 3.83856 \t 3.05583\n",
      "\t R^2: \t 0.07731 \t 0.26546\n",
      "--------------------------------------------------\n"
     ]
    }
   ],
   "source": [
    "import time\n",
    "\n",
    "num_samples = 100\n",
    "d_sizes = [1, 3, 5]\n",
    "dgp_list = [SmoothDataGenerator, JumpDataGenerator, SinusoidalDataGenerator]\n",
    "\n",
    "for dgp in dgp_list:\n",
    "    print(f'Running for {dgp.__name__}')\n",
    "    for d in d_sizes:\n",
    "        print(f'\\t Running for d={d}') \n",
    "\n",
    "        X, Y = dgp.generate_data(num_samples, d)\n",
    "        X_train, X_test, Y_train, Y_test = train_test_split(X, Y, test_size=0.9, random_state=42)\n",
    "\n",
    "        # HAL\n",
    "        hal = HAL()\n",
    "        start_time = time.time()\n",
    "        hal.fit(X_train, Y_train)\n",
    "        hal_time = time.time() - start_time\n",
    "        hal_pred = hal.predict(X_test)\n",
    "        hal_mse = np.mean((hal_pred - Y_test)**2)\n",
    "\n",
    "        # HAR\n",
    "        har = HAR()\n",
    "        start_time = time.time()\n",
    "        har.fit(X_train, Y_train)\n",
    "        har_time = time.time() - start_time\n",
    "        har_pred = har.predict(X_test)\n",
    "        har_mse = np.mean((har_pred - Y_test)**2)\n",
    "\n",
    "        # display training time, MSE and R^2 for both models in a table\n",
    "        print(f'\\t\\t HAL \\t\\t HAR')\n",
    "        print(f'\\t Time: \\t {round(hal_time, 5)} \\t {round(har_time, 5)}')\n",
    "        print(f'\\t MSE: \\t {round(hal_mse, 5)} \\t {round(har_mse, 5)}')\n",
    "        print(f'\\t R^2: \\t {round(calculate_r_squared(Y_test, hal_pred), 5)} \\t {round(calculate_r_squared(Y_test, har_pred), 5)}')\n",
    "\n",
    "        print(\"-\"*50)\n"
   ]
  },
  {
   "cell_type": "markdown",
   "id": "c769ba81",
   "metadata": {},
   "source": [
    "# 3.0: Fixed d, varying N "
   ]
  },
  {
   "cell_type": "code",
   "execution_count": 5,
   "id": "cba3007f",
   "metadata": {},
   "outputs": [
    {
     "name": "stdout",
     "output_type": "stream",
     "text": [
      "Running for SmoothDataGenerator with sample size: 100\n",
      "Running for SmoothDataGenerator with sample size: 250\n",
      "Running for SmoothDataGenerator with sample size: 500\n",
      "Running for SmoothDataGenerator with sample size: 750\n"
     ]
    },
    {
     "name": "stderr",
     "output_type": "stream",
     "text": [
      "/Users/alexhagemeister/.local/share/virtualenvs/Highly_Adaptive_Ridge-awx9OXbz/lib/python3.11/site-packages/sklearn/linear_model/_coordinate_descent.py:678: ConvergenceWarning: Objective did not converge. You might want to increase the number of iterations, check the scale of the features or consider increasing regularisation. Duality gap: 2.039e-02, tolerance: 1.740e-02\n",
      "  model = cd_fast.enet_coordinate_descent(\n",
      "/Users/alexhagemeister/.local/share/virtualenvs/Highly_Adaptive_Ridge-awx9OXbz/lib/python3.11/site-packages/sklearn/linear_model/_coordinate_descent.py:678: ConvergenceWarning: Objective did not converge. You might want to increase the number of iterations, check the scale of the features or consider increasing regularisation. Duality gap: 1.812e-02, tolerance: 1.740e-02\n",
      "  model = cd_fast.enet_coordinate_descent(\n"
     ]
    },
    {
     "name": "stdout",
     "output_type": "stream",
     "text": [
      "Running for SmoothDataGenerator with sample size: 1000\n"
     ]
    },
    {
     "name": "stderr",
     "output_type": "stream",
     "text": [
      "/Users/alexhagemeister/.local/share/virtualenvs/Highly_Adaptive_Ridge-awx9OXbz/lib/python3.11/site-packages/sklearn/linear_model/_coordinate_descent.py:678: ConvergenceWarning: Objective did not converge. You might want to increase the number of iterations, check the scale of the features or consider increasing regularisation. Duality gap: 2.550e-02, tolerance: 2.103e-02\n",
      "  model = cd_fast.enet_coordinate_descent(\n",
      "/Users/alexhagemeister/.local/share/virtualenvs/Highly_Adaptive_Ridge-awx9OXbz/lib/python3.11/site-packages/sklearn/linear_model/_coordinate_descent.py:678: ConvergenceWarning: Objective did not converge. You might want to increase the number of iterations, check the scale of the features or consider increasing regularisation. Duality gap: 6.247e-02, tolerance: 2.103e-02\n",
      "  model = cd_fast.enet_coordinate_descent(\n",
      "/Users/alexhagemeister/.local/share/virtualenvs/Highly_Adaptive_Ridge-awx9OXbz/lib/python3.11/site-packages/sklearn/linear_model/_coordinate_descent.py:678: ConvergenceWarning: Objective did not converge. You might want to increase the number of iterations, check the scale of the features or consider increasing regularisation. Duality gap: 5.777e-02, tolerance: 2.103e-02\n",
      "  model = cd_fast.enet_coordinate_descent(\n",
      "/Users/alexhagemeister/.local/share/virtualenvs/Highly_Adaptive_Ridge-awx9OXbz/lib/python3.11/site-packages/sklearn/linear_model/_coordinate_descent.py:678: ConvergenceWarning: Objective did not converge. You might want to increase the number of iterations, check the scale of the features or consider increasing regularisation. Duality gap: 5.451e-02, tolerance: 2.103e-02\n",
      "  model = cd_fast.enet_coordinate_descent(\n",
      "/Users/alexhagemeister/.local/share/virtualenvs/Highly_Adaptive_Ridge-awx9OXbz/lib/python3.11/site-packages/sklearn/linear_model/_coordinate_descent.py:678: ConvergenceWarning: Objective did not converge. You might want to increase the number of iterations, check the scale of the features or consider increasing regularisation. Duality gap: 6.848e-02, tolerance: 2.103e-02\n",
      "  model = cd_fast.enet_coordinate_descent(\n",
      "/Users/alexhagemeister/.local/share/virtualenvs/Highly_Adaptive_Ridge-awx9OXbz/lib/python3.11/site-packages/sklearn/linear_model/_coordinate_descent.py:678: ConvergenceWarning: Objective did not converge. You might want to increase the number of iterations, check the scale of the features or consider increasing regularisation. Duality gap: 4.996e-02, tolerance: 2.103e-02\n",
      "  model = cd_fast.enet_coordinate_descent(\n",
      "/Users/alexhagemeister/.local/share/virtualenvs/Highly_Adaptive_Ridge-awx9OXbz/lib/python3.11/site-packages/sklearn/linear_model/_coordinate_descent.py:678: ConvergenceWarning: Objective did not converge. You might want to increase the number of iterations, check the scale of the features or consider increasing regularisation. Duality gap: 2.283e-02, tolerance: 2.103e-02\n",
      "  model = cd_fast.enet_coordinate_descent(\n",
      "/Users/alexhagemeister/.local/share/virtualenvs/Highly_Adaptive_Ridge-awx9OXbz/lib/python3.11/site-packages/sklearn/linear_model/_coordinate_descent.py:678: ConvergenceWarning: Objective did not converge. You might want to increase the number of iterations, check the scale of the features or consider increasing regularisation. Duality gap: 2.563e-02, tolerance: 2.103e-02\n",
      "  model = cd_fast.enet_coordinate_descent(\n",
      "/Users/alexhagemeister/.local/share/virtualenvs/Highly_Adaptive_Ridge-awx9OXbz/lib/python3.11/site-packages/sklearn/linear_model/_coordinate_descent.py:678: ConvergenceWarning: Objective did not converge. You might want to increase the number of iterations, check the scale of the features or consider increasing regularisation. Duality gap: 2.735e-02, tolerance: 2.103e-02\n",
      "  model = cd_fast.enet_coordinate_descent(\n",
      "/Users/alexhagemeister/.local/share/virtualenvs/Highly_Adaptive_Ridge-awx9OXbz/lib/python3.11/site-packages/sklearn/linear_model/_coordinate_descent.py:678: ConvergenceWarning: Objective did not converge. You might want to increase the number of iterations, check the scale of the features or consider increasing regularisation. Duality gap: 2.977e-02, tolerance: 2.103e-02\n",
      "  model = cd_fast.enet_coordinate_descent(\n",
      "/Users/alexhagemeister/.local/share/virtualenvs/Highly_Adaptive_Ridge-awx9OXbz/lib/python3.11/site-packages/sklearn/linear_model/_coordinate_descent.py:678: ConvergenceWarning: Objective did not converge. You might want to increase the number of iterations, check the scale of the features or consider increasing regularisation. Duality gap: 3.627e-02, tolerance: 2.103e-02\n",
      "  model = cd_fast.enet_coordinate_descent(\n",
      "/Users/alexhagemeister/.local/share/virtualenvs/Highly_Adaptive_Ridge-awx9OXbz/lib/python3.11/site-packages/sklearn/linear_model/_coordinate_descent.py:678: ConvergenceWarning: Objective did not converge. You might want to increase the number of iterations, check the scale of the features or consider increasing regularisation. Duality gap: 3.946e-02, tolerance: 2.103e-02\n",
      "  model = cd_fast.enet_coordinate_descent(\n",
      "/Users/alexhagemeister/.local/share/virtualenvs/Highly_Adaptive_Ridge-awx9OXbz/lib/python3.11/site-packages/sklearn/linear_model/_coordinate_descent.py:678: ConvergenceWarning: Objective did not converge. You might want to increase the number of iterations, check the scale of the features or consider increasing regularisation. Duality gap: 3.159e-02, tolerance: 2.103e-02\n",
      "  model = cd_fast.enet_coordinate_descent(\n",
      "/Users/alexhagemeister/.local/share/virtualenvs/Highly_Adaptive_Ridge-awx9OXbz/lib/python3.11/site-packages/sklearn/linear_model/_coordinate_descent.py:678: ConvergenceWarning: Objective did not converge. You might want to increase the number of iterations, check the scale of the features or consider increasing regularisation. Duality gap: 2.352e-02, tolerance: 2.103e-02\n",
      "  model = cd_fast.enet_coordinate_descent(\n",
      "/Users/alexhagemeister/.local/share/virtualenvs/Highly_Adaptive_Ridge-awx9OXbz/lib/python3.11/site-packages/sklearn/linear_model/_coordinate_descent.py:678: ConvergenceWarning: Objective did not converge. You might want to increase the number of iterations, check the scale of the features or consider increasing regularisation. Duality gap: 2.253e-02, tolerance: 2.103e-02\n",
      "  model = cd_fast.enet_coordinate_descent(\n",
      "/Users/alexhagemeister/.local/share/virtualenvs/Highly_Adaptive_Ridge-awx9OXbz/lib/python3.11/site-packages/sklearn/linear_model/_coordinate_descent.py:678: ConvergenceWarning: Objective did not converge. You might want to increase the number of iterations, check the scale of the features or consider increasing regularisation. Duality gap: 2.577e-02, tolerance: 2.458e-02\n",
      "  model = cd_fast.enet_coordinate_descent(\n",
      "/Users/alexhagemeister/.local/share/virtualenvs/Highly_Adaptive_Ridge-awx9OXbz/lib/python3.11/site-packages/sklearn/linear_model/_coordinate_descent.py:678: ConvergenceWarning: Objective did not converge. You might want to increase the number of iterations, check the scale of the features or consider increasing regularisation. Duality gap: 2.898e-02, tolerance: 2.295e-02\n",
      "  model = cd_fast.enet_coordinate_descent(\n",
      "/Users/alexhagemeister/.local/share/virtualenvs/Highly_Adaptive_Ridge-awx9OXbz/lib/python3.11/site-packages/sklearn/linear_model/_coordinate_descent.py:678: ConvergenceWarning: Objective did not converge. You might want to increase the number of iterations, check the scale of the features or consider increasing regularisation. Duality gap: 3.090e-02, tolerance: 2.623e-02\n",
      "  model = cd_fast.enet_coordinate_descent(\n",
      "/Users/alexhagemeister/.local/share/virtualenvs/Highly_Adaptive_Ridge-awx9OXbz/lib/python3.11/site-packages/sklearn/linear_model/_coordinate_descent.py:678: ConvergenceWarning: Objective did not converge. You might want to increase the number of iterations, check the scale of the features or consider increasing regularisation. Duality gap: 3.743e-02, tolerance: 2.623e-02\n",
      "  model = cd_fast.enet_coordinate_descent(\n",
      "/Users/alexhagemeister/.local/share/virtualenvs/Highly_Adaptive_Ridge-awx9OXbz/lib/python3.11/site-packages/sklearn/linear_model/_coordinate_descent.py:678: ConvergenceWarning: Objective did not converge. You might want to increase the number of iterations, check the scale of the features or consider increasing regularisation. Duality gap: 3.319e-02, tolerance: 2.623e-02\n",
      "  model = cd_fast.enet_coordinate_descent(\n"
     ]
    },
    {
     "name": "stdout",
     "output_type": "stream",
     "text": [
      "Running for JumpDataGenerator with sample size: 100\n",
      "Running for JumpDataGenerator with sample size: 250\n",
      "Running for JumpDataGenerator with sample size: 500\n",
      "Running for JumpDataGenerator with sample size: 750\n",
      "Running for JumpDataGenerator with sample size: 1000\n"
     ]
    },
    {
     "name": "stderr",
     "output_type": "stream",
     "text": [
      "/Users/alexhagemeister/.local/share/virtualenvs/Highly_Adaptive_Ridge-awx9OXbz/lib/python3.11/site-packages/sklearn/linear_model/_coordinate_descent.py:678: ConvergenceWarning: Objective did not converge. You might want to increase the number of iterations, check the scale of the features or consider increasing regularisation. Duality gap: 6.738e-02, tolerance: 3.053e-02\n",
      "  model = cd_fast.enet_coordinate_descent(\n",
      "/Users/alexhagemeister/.local/share/virtualenvs/Highly_Adaptive_Ridge-awx9OXbz/lib/python3.11/site-packages/sklearn/linear_model/_coordinate_descent.py:678: ConvergenceWarning: Objective did not converge. You might want to increase the number of iterations, check the scale of the features or consider increasing regularisation. Duality gap: 4.933e-02, tolerance: 3.053e-02\n",
      "  model = cd_fast.enet_coordinate_descent(\n",
      "/Users/alexhagemeister/.local/share/virtualenvs/Highly_Adaptive_Ridge-awx9OXbz/lib/python3.11/site-packages/sklearn/linear_model/_coordinate_descent.py:678: ConvergenceWarning: Objective did not converge. You might want to increase the number of iterations, check the scale of the features or consider increasing regularisation. Duality gap: 3.533e-02, tolerance: 3.053e-02\n",
      "  model = cd_fast.enet_coordinate_descent(\n",
      "/Users/alexhagemeister/.local/share/virtualenvs/Highly_Adaptive_Ridge-awx9OXbz/lib/python3.11/site-packages/sklearn/linear_model/_coordinate_descent.py:678: ConvergenceWarning: Objective did not converge. You might want to increase the number of iterations, check the scale of the features or consider increasing regularisation. Duality gap: 3.653e-02, tolerance: 3.053e-02\n",
      "  model = cd_fast.enet_coordinate_descent(\n",
      "/Users/alexhagemeister/.local/share/virtualenvs/Highly_Adaptive_Ridge-awx9OXbz/lib/python3.11/site-packages/sklearn/linear_model/_coordinate_descent.py:678: ConvergenceWarning: Objective did not converge. You might want to increase the number of iterations, check the scale of the features or consider increasing regularisation. Duality gap: 3.499e-02, tolerance: 3.053e-02\n",
      "  model = cd_fast.enet_coordinate_descent(\n",
      "/Users/alexhagemeister/.local/share/virtualenvs/Highly_Adaptive_Ridge-awx9OXbz/lib/python3.11/site-packages/sklearn/linear_model/_coordinate_descent.py:678: ConvergenceWarning: Objective did not converge. You might want to increase the number of iterations, check the scale of the features or consider increasing regularisation. Duality gap: 3.590e-02, tolerance: 3.053e-02\n",
      "  model = cd_fast.enet_coordinate_descent(\n",
      "/Users/alexhagemeister/.local/share/virtualenvs/Highly_Adaptive_Ridge-awx9OXbz/lib/python3.11/site-packages/sklearn/linear_model/_coordinate_descent.py:678: ConvergenceWarning: Objective did not converge. You might want to increase the number of iterations, check the scale of the features or consider increasing regularisation. Duality gap: 3.124e-02, tolerance: 3.053e-02\n",
      "  model = cd_fast.enet_coordinate_descent(\n",
      "/Users/alexhagemeister/.local/share/virtualenvs/Highly_Adaptive_Ridge-awx9OXbz/lib/python3.11/site-packages/sklearn/linear_model/_coordinate_descent.py:678: ConvergenceWarning: Objective did not converge. You might want to increase the number of iterations, check the scale of the features or consider increasing regularisation. Duality gap: 2.967e-02, tolerance: 2.946e-02\n",
      "  model = cd_fast.enet_coordinate_descent(\n",
      "/Users/alexhagemeister/.local/share/virtualenvs/Highly_Adaptive_Ridge-awx9OXbz/lib/python3.11/site-packages/sklearn/linear_model/_coordinate_descent.py:678: ConvergenceWarning: Objective did not converge. You might want to increase the number of iterations, check the scale of the features or consider increasing regularisation. Duality gap: 3.424e-02, tolerance: 2.946e-02\n",
      "  model = cd_fast.enet_coordinate_descent(\n",
      "/Users/alexhagemeister/.local/share/virtualenvs/Highly_Adaptive_Ridge-awx9OXbz/lib/python3.11/site-packages/sklearn/linear_model/_coordinate_descent.py:678: ConvergenceWarning: Objective did not converge. You might want to increase the number of iterations, check the scale of the features or consider increasing regularisation. Duality gap: 3.350e-02, tolerance: 2.946e-02\n",
      "  model = cd_fast.enet_coordinate_descent(\n",
      "/Users/alexhagemeister/.local/share/virtualenvs/Highly_Adaptive_Ridge-awx9OXbz/lib/python3.11/site-packages/sklearn/linear_model/_coordinate_descent.py:678: ConvergenceWarning: Objective did not converge. You might want to increase the number of iterations, check the scale of the features or consider increasing regularisation. Duality gap: 3.067e-02, tolerance: 2.946e-02\n",
      "  model = cd_fast.enet_coordinate_descent(\n",
      "/Users/alexhagemeister/.local/share/virtualenvs/Highly_Adaptive_Ridge-awx9OXbz/lib/python3.11/site-packages/sklearn/linear_model/_coordinate_descent.py:678: ConvergenceWarning: Objective did not converge. You might want to increase the number of iterations, check the scale of the features or consider increasing regularisation. Duality gap: 3.101e-02, tolerance: 2.946e-02\n",
      "  model = cd_fast.enet_coordinate_descent(\n",
      "/Users/alexhagemeister/.local/share/virtualenvs/Highly_Adaptive_Ridge-awx9OXbz/lib/python3.11/site-packages/sklearn/linear_model/_coordinate_descent.py:678: ConvergenceWarning: Objective did not converge. You might want to increase the number of iterations, check the scale of the features or consider increasing regularisation. Duality gap: 3.253e-02, tolerance: 2.946e-02\n",
      "  model = cd_fast.enet_coordinate_descent(\n",
      "/Users/alexhagemeister/.local/share/virtualenvs/Highly_Adaptive_Ridge-awx9OXbz/lib/python3.11/site-packages/sklearn/linear_model/_coordinate_descent.py:678: ConvergenceWarning: Objective did not converge. You might want to increase the number of iterations, check the scale of the features or consider increasing regularisation. Duality gap: 4.099e-02, tolerance: 2.946e-02\n",
      "  model = cd_fast.enet_coordinate_descent(\n",
      "/Users/alexhagemeister/.local/share/virtualenvs/Highly_Adaptive_Ridge-awx9OXbz/lib/python3.11/site-packages/sklearn/linear_model/_coordinate_descent.py:678: ConvergenceWarning: Objective did not converge. You might want to increase the number of iterations, check the scale of the features or consider increasing regularisation. Duality gap: 3.694e-02, tolerance: 2.946e-02\n",
      "  model = cd_fast.enet_coordinate_descent(\n",
      "/Users/alexhagemeister/.local/share/virtualenvs/Highly_Adaptive_Ridge-awx9OXbz/lib/python3.11/site-packages/sklearn/linear_model/_coordinate_descent.py:678: ConvergenceWarning: Objective did not converge. You might want to increase the number of iterations, check the scale of the features or consider increasing regularisation. Duality gap: 2.968e-02, tolerance: 2.946e-02\n",
      "  model = cd_fast.enet_coordinate_descent(\n",
      "/Users/alexhagemeister/.local/share/virtualenvs/Highly_Adaptive_Ridge-awx9OXbz/lib/python3.11/site-packages/sklearn/linear_model/_coordinate_descent.py:678: ConvergenceWarning: Objective did not converge. You might want to increase the number of iterations, check the scale of the features or consider increasing regularisation. Duality gap: 3.422e-02, tolerance: 2.946e-02\n",
      "  model = cd_fast.enet_coordinate_descent(\n",
      "/Users/alexhagemeister/.local/share/virtualenvs/Highly_Adaptive_Ridge-awx9OXbz/lib/python3.11/site-packages/sklearn/linear_model/_coordinate_descent.py:678: ConvergenceWarning: Objective did not converge. You might want to increase the number of iterations, check the scale of the features or consider increasing regularisation. Duality gap: 3.496e-02, tolerance: 2.946e-02\n",
      "  model = cd_fast.enet_coordinate_descent(\n",
      "/Users/alexhagemeister/.local/share/virtualenvs/Highly_Adaptive_Ridge-awx9OXbz/lib/python3.11/site-packages/sklearn/linear_model/_coordinate_descent.py:678: ConvergenceWarning: Objective did not converge. You might want to increase the number of iterations, check the scale of the features or consider increasing regularisation. Duality gap: 3.598e-02, tolerance: 2.946e-02\n",
      "  model = cd_fast.enet_coordinate_descent(\n",
      "/Users/alexhagemeister/.local/share/virtualenvs/Highly_Adaptive_Ridge-awx9OXbz/lib/python3.11/site-packages/sklearn/linear_model/_coordinate_descent.py:678: ConvergenceWarning: Objective did not converge. You might want to increase the number of iterations, check the scale of the features or consider increasing regularisation. Duality gap: 3.077e-02, tolerance: 2.946e-02\n",
      "  model = cd_fast.enet_coordinate_descent(\n",
      "/Users/alexhagemeister/.local/share/virtualenvs/Highly_Adaptive_Ridge-awx9OXbz/lib/python3.11/site-packages/sklearn/linear_model/_coordinate_descent.py:678: ConvergenceWarning: Objective did not converge. You might want to increase the number of iterations, check the scale of the features or consider increasing regularisation. Duality gap: 4.009e-02, tolerance: 3.235e-02\n",
      "  model = cd_fast.enet_coordinate_descent(\n",
      "/Users/alexhagemeister/.local/share/virtualenvs/Highly_Adaptive_Ridge-awx9OXbz/lib/python3.11/site-packages/sklearn/linear_model/_coordinate_descent.py:678: ConvergenceWarning: Objective did not converge. You might want to increase the number of iterations, check the scale of the features or consider increasing regularisation. Duality gap: 4.039e-02, tolerance: 3.235e-02\n",
      "  model = cd_fast.enet_coordinate_descent(\n",
      "/Users/alexhagemeister/.local/share/virtualenvs/Highly_Adaptive_Ridge-awx9OXbz/lib/python3.11/site-packages/sklearn/linear_model/_coordinate_descent.py:678: ConvergenceWarning: Objective did not converge. You might want to increase the number of iterations, check the scale of the features or consider increasing regularisation. Duality gap: 4.455e-02, tolerance: 3.235e-02\n",
      "  model = cd_fast.enet_coordinate_descent(\n",
      "/Users/alexhagemeister/.local/share/virtualenvs/Highly_Adaptive_Ridge-awx9OXbz/lib/python3.11/site-packages/sklearn/linear_model/_coordinate_descent.py:678: ConvergenceWarning: Objective did not converge. You might want to increase the number of iterations, check the scale of the features or consider increasing regularisation. Duality gap: 4.303e-02, tolerance: 3.235e-02\n",
      "  model = cd_fast.enet_coordinate_descent(\n"
     ]
    },
    {
     "name": "stdout",
     "output_type": "stream",
     "text": [
      "Running for SinusoidalDataGenerator with sample size: 100\n",
      "Running for SinusoidalDataGenerator with sample size: 250\n",
      "Running for SinusoidalDataGenerator with sample size: 500\n",
      "Running for SinusoidalDataGenerator with sample size: 750\n"
     ]
    },
    {
     "name": "stderr",
     "output_type": "stream",
     "text": [
      "/Users/alexhagemeister/.local/share/virtualenvs/Highly_Adaptive_Ridge-awx9OXbz/lib/python3.11/site-packages/sklearn/linear_model/_coordinate_descent.py:678: ConvergenceWarning: Objective did not converge. You might want to increase the number of iterations, check the scale of the features or consider increasing regularisation. Duality gap: 1.445e-02, tolerance: 1.246e-02\n",
      "  model = cd_fast.enet_coordinate_descent(\n",
      "/Users/alexhagemeister/.local/share/virtualenvs/Highly_Adaptive_Ridge-awx9OXbz/lib/python3.11/site-packages/sklearn/linear_model/_coordinate_descent.py:678: ConvergenceWarning: Objective did not converge. You might want to increase the number of iterations, check the scale of the features or consider increasing regularisation. Duality gap: 1.287e-02, tolerance: 1.246e-02\n",
      "  model = cd_fast.enet_coordinate_descent(\n",
      "/Users/alexhagemeister/.local/share/virtualenvs/Highly_Adaptive_Ridge-awx9OXbz/lib/python3.11/site-packages/sklearn/linear_model/_coordinate_descent.py:678: ConvergenceWarning: Objective did not converge. You might want to increase the number of iterations, check the scale of the features or consider increasing regularisation. Duality gap: 1.855e-02, tolerance: 1.285e-02\n",
      "  model = cd_fast.enet_coordinate_descent(\n",
      "/Users/alexhagemeister/.local/share/virtualenvs/Highly_Adaptive_Ridge-awx9OXbz/lib/python3.11/site-packages/sklearn/linear_model/_coordinate_descent.py:678: ConvergenceWarning: Objective did not converge. You might want to increase the number of iterations, check the scale of the features or consider increasing regularisation. Duality gap: 1.413e-02, tolerance: 1.285e-02\n",
      "  model = cd_fast.enet_coordinate_descent(\n",
      "/Users/alexhagemeister/.local/share/virtualenvs/Highly_Adaptive_Ridge-awx9OXbz/lib/python3.11/site-packages/sklearn/linear_model/_coordinate_descent.py:678: ConvergenceWarning: Objective did not converge. You might want to increase the number of iterations, check the scale of the features or consider increasing regularisation. Duality gap: 1.349e-02, tolerance: 1.285e-02\n",
      "  model = cd_fast.enet_coordinate_descent(\n",
      "/Users/alexhagemeister/.local/share/virtualenvs/Highly_Adaptive_Ridge-awx9OXbz/lib/python3.11/site-packages/sklearn/linear_model/_coordinate_descent.py:678: ConvergenceWarning: Objective did not converge. You might want to increase the number of iterations, check the scale of the features or consider increasing regularisation. Duality gap: 1.325e-02, tolerance: 1.285e-02\n",
      "  model = cd_fast.enet_coordinate_descent(\n",
      "/Users/alexhagemeister/.local/share/virtualenvs/Highly_Adaptive_Ridge-awx9OXbz/lib/python3.11/site-packages/sklearn/linear_model/_coordinate_descent.py:678: ConvergenceWarning: Objective did not converge. You might want to increase the number of iterations, check the scale of the features or consider increasing regularisation. Duality gap: 1.361e-02, tolerance: 1.285e-02\n",
      "  model = cd_fast.enet_coordinate_descent(\n"
     ]
    },
    {
     "name": "stdout",
     "output_type": "stream",
     "text": [
      "Running for SinusoidalDataGenerator with sample size: 1000\n"
     ]
    },
    {
     "name": "stderr",
     "output_type": "stream",
     "text": [
      "/Users/alexhagemeister/.local/share/virtualenvs/Highly_Adaptive_Ridge-awx9OXbz/lib/python3.11/site-packages/sklearn/linear_model/_coordinate_descent.py:678: ConvergenceWarning: Objective did not converge. You might want to increase the number of iterations, check the scale of the features or consider increasing regularisation. Duality gap: 2.867e-02, tolerance: 2.351e-02\n",
      "  model = cd_fast.enet_coordinate_descent(\n",
      "/Users/alexhagemeister/.local/share/virtualenvs/Highly_Adaptive_Ridge-awx9OXbz/lib/python3.11/site-packages/sklearn/linear_model/_coordinate_descent.py:678: ConvergenceWarning: Objective did not converge. You might want to increase the number of iterations, check the scale of the features or consider increasing regularisation. Duality gap: 3.263e-02, tolerance: 2.351e-02\n",
      "  model = cd_fast.enet_coordinate_descent(\n"
     ]
    },
    {
     "ename": "KeyboardInterrupt",
     "evalue": "",
     "output_type": "error",
     "traceback": [
      "\u001b[0;31m---------------------------------------------------------------------------\u001b[0m",
      "\u001b[0;31mKeyboardInterrupt\u001b[0m                         Traceback (most recent call last)",
      "Cell \u001b[0;32mIn[5], line 28\u001b[0m\n\u001b[1;32m     26\u001b[0m hal \u001b[38;5;241m=\u001b[39m HAL()\n\u001b[1;32m     27\u001b[0m start_time \u001b[38;5;241m=\u001b[39m time\u001b[38;5;241m.\u001b[39mtime()\n\u001b[0;32m---> 28\u001b[0m \u001b[43mhal\u001b[49m\u001b[38;5;241;43m.\u001b[39;49m\u001b[43mfit\u001b[49m\u001b[43m(\u001b[49m\u001b[43mX_train\u001b[49m\u001b[43m,\u001b[49m\u001b[43m \u001b[49m\u001b[43mY_train\u001b[49m\u001b[43m)\u001b[49m\n\u001b[1;32m     29\u001b[0m hal_time \u001b[38;5;241m=\u001b[39m time\u001b[38;5;241m.\u001b[39mtime() \u001b[38;5;241m-\u001b[39m start_time\n\u001b[1;32m     30\u001b[0m runtimes[\u001b[38;5;124m'\u001b[39m\u001b[38;5;124mHAL\u001b[39m\u001b[38;5;124m'\u001b[39m][n]\u001b[38;5;241m.\u001b[39mappend(hal_time)\n",
      "File \u001b[0;32m~/Library/CloudStorage/GoogleDrive-hagemeister.alex@gmail.com/My Drive/RWM/HAR/Highly_Adaptive_Ridge/highly_adaptive_lasso.py:102\u001b[0m, in \u001b[0;36mHAL.fit\u001b[0;34m(self, X, Y)\u001b[0m\n\u001b[1;32m     91\u001b[0m \u001b[38;5;250m\u001b[39m\u001b[38;5;124;03m\"\"\"\u001b[39;00m\n\u001b[1;32m     92\u001b[0m \u001b[38;5;124;03mFits the HAL model to the given input data and target values.\u001b[39;00m\n\u001b[1;32m     93\u001b[0m \n\u001b[0;32m   (...)\u001b[0m\n\u001b[1;32m     99\u001b[0m \n\u001b[1;32m    100\u001b[0m \u001b[38;5;124;03m\"\"\"\u001b[39;00m\n\u001b[1;32m    101\u001b[0m \u001b[38;5;28mself\u001b[39m\u001b[38;5;241m.\u001b[39mknots \u001b[38;5;241m=\u001b[39m X\n\u001b[0;32m--> 102\u001b[0m \u001b[38;5;28;43mself\u001b[39;49m\u001b[38;5;241;43m.\u001b[39;49m\u001b[43mlasso\u001b[49m\u001b[38;5;241;43m.\u001b[39;49m\u001b[43mfit\u001b[49m\u001b[43m(\u001b[49m\u001b[38;5;28;43mself\u001b[39;49m\u001b[38;5;241;43m.\u001b[39;49m\u001b[43m_bases\u001b[49m\u001b[43m(\u001b[49m\u001b[43mX\u001b[49m\u001b[43m)\u001b[49m\u001b[43m,\u001b[49m\u001b[43m \u001b[49m\u001b[43mY\u001b[49m\u001b[43m)\u001b[49m\n",
      "File \u001b[0;32m~/.local/share/virtualenvs/Highly_Adaptive_Ridge-awx9OXbz/lib/python3.11/site-packages/sklearn/base.py:1474\u001b[0m, in \u001b[0;36m_fit_context.<locals>.decorator.<locals>.wrapper\u001b[0;34m(estimator, *args, **kwargs)\u001b[0m\n\u001b[1;32m   1467\u001b[0m     estimator\u001b[38;5;241m.\u001b[39m_validate_params()\n\u001b[1;32m   1469\u001b[0m \u001b[38;5;28;01mwith\u001b[39;00m config_context(\n\u001b[1;32m   1470\u001b[0m     skip_parameter_validation\u001b[38;5;241m=\u001b[39m(\n\u001b[1;32m   1471\u001b[0m         prefer_skip_nested_validation \u001b[38;5;129;01mor\u001b[39;00m global_skip_validation\n\u001b[1;32m   1472\u001b[0m     )\n\u001b[1;32m   1473\u001b[0m ):\n\u001b[0;32m-> 1474\u001b[0m     \u001b[38;5;28;01mreturn\u001b[39;00m \u001b[43mfit_method\u001b[49m\u001b[43m(\u001b[49m\u001b[43mestimator\u001b[49m\u001b[43m,\u001b[49m\u001b[43m \u001b[49m\u001b[38;5;241;43m*\u001b[39;49m\u001b[43margs\u001b[49m\u001b[43m,\u001b[49m\u001b[43m \u001b[49m\u001b[38;5;241;43m*\u001b[39;49m\u001b[38;5;241;43m*\u001b[39;49m\u001b[43mkwargs\u001b[49m\u001b[43m)\u001b[49m\n",
      "File \u001b[0;32m~/.local/share/virtualenvs/Highly_Adaptive_Ridge-awx9OXbz/lib/python3.11/site-packages/sklearn/linear_model/_coordinate_descent.py:1751\u001b[0m, in \u001b[0;36mLinearModelCV.fit\u001b[0;34m(self, X, y, sample_weight, **params)\u001b[0m\n\u001b[1;32m   1731\u001b[0m \u001b[38;5;66;03m# We do a double for loop folded in one, in order to be able to\u001b[39;00m\n\u001b[1;32m   1732\u001b[0m \u001b[38;5;66;03m# iterate in parallel on l1_ratio and folds\u001b[39;00m\n\u001b[1;32m   1733\u001b[0m jobs \u001b[38;5;241m=\u001b[39m (\n\u001b[1;32m   1734\u001b[0m     delayed(_path_residuals)(\n\u001b[1;32m   1735\u001b[0m         X,\n\u001b[0;32m   (...)\u001b[0m\n\u001b[1;32m   1749\u001b[0m     \u001b[38;5;28;01mfor\u001b[39;00m train, test \u001b[38;5;129;01min\u001b[39;00m folds\n\u001b[1;32m   1750\u001b[0m )\n\u001b[0;32m-> 1751\u001b[0m mse_paths \u001b[38;5;241m=\u001b[39m \u001b[43mParallel\u001b[49m\u001b[43m(\u001b[49m\n\u001b[1;32m   1752\u001b[0m \u001b[43m    \u001b[49m\u001b[43mn_jobs\u001b[49m\u001b[38;5;241;43m=\u001b[39;49m\u001b[38;5;28;43mself\u001b[39;49m\u001b[38;5;241;43m.\u001b[39;49m\u001b[43mn_jobs\u001b[49m\u001b[43m,\u001b[49m\n\u001b[1;32m   1753\u001b[0m \u001b[43m    \u001b[49m\u001b[43mverbose\u001b[49m\u001b[38;5;241;43m=\u001b[39;49m\u001b[38;5;28;43mself\u001b[39;49m\u001b[38;5;241;43m.\u001b[39;49m\u001b[43mverbose\u001b[49m\u001b[43m,\u001b[49m\n\u001b[1;32m   1754\u001b[0m \u001b[43m    \u001b[49m\u001b[43mprefer\u001b[49m\u001b[38;5;241;43m=\u001b[39;49m\u001b[38;5;124;43m\"\u001b[39;49m\u001b[38;5;124;43mthreads\u001b[39;49m\u001b[38;5;124;43m\"\u001b[39;49m\u001b[43m,\u001b[49m\n\u001b[1;32m   1755\u001b[0m \u001b[43m\u001b[49m\u001b[43m)\u001b[49m\u001b[43m(\u001b[49m\u001b[43mjobs\u001b[49m\u001b[43m)\u001b[49m\n\u001b[1;32m   1756\u001b[0m mse_paths \u001b[38;5;241m=\u001b[39m np\u001b[38;5;241m.\u001b[39mreshape(mse_paths, (n_l1_ratio, \u001b[38;5;28mlen\u001b[39m(folds), \u001b[38;5;241m-\u001b[39m\u001b[38;5;241m1\u001b[39m))\n\u001b[1;32m   1757\u001b[0m \u001b[38;5;66;03m# The mean is computed over folds.\u001b[39;00m\n",
      "File \u001b[0;32m~/.local/share/virtualenvs/Highly_Adaptive_Ridge-awx9OXbz/lib/python3.11/site-packages/sklearn/utils/parallel.py:67\u001b[0m, in \u001b[0;36mParallel.__call__\u001b[0;34m(self, iterable)\u001b[0m\n\u001b[1;32m     62\u001b[0m config \u001b[38;5;241m=\u001b[39m get_config()\n\u001b[1;32m     63\u001b[0m iterable_with_config \u001b[38;5;241m=\u001b[39m (\n\u001b[1;32m     64\u001b[0m     (_with_config(delayed_func, config), args, kwargs)\n\u001b[1;32m     65\u001b[0m     \u001b[38;5;28;01mfor\u001b[39;00m delayed_func, args, kwargs \u001b[38;5;129;01min\u001b[39;00m iterable\n\u001b[1;32m     66\u001b[0m )\n\u001b[0;32m---> 67\u001b[0m \u001b[38;5;28;01mreturn\u001b[39;00m \u001b[38;5;28;43msuper\u001b[39;49m\u001b[43m(\u001b[49m\u001b[43m)\u001b[49m\u001b[38;5;241;43m.\u001b[39;49m\u001b[38;5;21;43m__call__\u001b[39;49m\u001b[43m(\u001b[49m\u001b[43miterable_with_config\u001b[49m\u001b[43m)\u001b[49m\n",
      "File \u001b[0;32m~/.local/share/virtualenvs/Highly_Adaptive_Ridge-awx9OXbz/lib/python3.11/site-packages/joblib/parallel.py:1863\u001b[0m, in \u001b[0;36mParallel.__call__\u001b[0;34m(self, iterable)\u001b[0m\n\u001b[1;32m   1861\u001b[0m     output \u001b[38;5;241m=\u001b[39m \u001b[38;5;28mself\u001b[39m\u001b[38;5;241m.\u001b[39m_get_sequential_output(iterable)\n\u001b[1;32m   1862\u001b[0m     \u001b[38;5;28mnext\u001b[39m(output)\n\u001b[0;32m-> 1863\u001b[0m     \u001b[38;5;28;01mreturn\u001b[39;00m output \u001b[38;5;28;01mif\u001b[39;00m \u001b[38;5;28mself\u001b[39m\u001b[38;5;241m.\u001b[39mreturn_generator \u001b[38;5;28;01melse\u001b[39;00m \u001b[38;5;28mlist\u001b[39m(output)\n\u001b[1;32m   1865\u001b[0m \u001b[38;5;66;03m# Let's create an ID that uniquely identifies the current call. If the\u001b[39;00m\n\u001b[1;32m   1866\u001b[0m \u001b[38;5;66;03m# call is interrupted early and that the same instance is immediately\u001b[39;00m\n\u001b[1;32m   1867\u001b[0m \u001b[38;5;66;03m# re-used, this id will be used to prevent workers that were\u001b[39;00m\n\u001b[1;32m   1868\u001b[0m \u001b[38;5;66;03m# concurrently finalizing a task from the previous call to run the\u001b[39;00m\n\u001b[1;32m   1869\u001b[0m \u001b[38;5;66;03m# callback.\u001b[39;00m\n\u001b[1;32m   1870\u001b[0m \u001b[38;5;28;01mwith\u001b[39;00m \u001b[38;5;28mself\u001b[39m\u001b[38;5;241m.\u001b[39m_lock:\n",
      "File \u001b[0;32m~/.local/share/virtualenvs/Highly_Adaptive_Ridge-awx9OXbz/lib/python3.11/site-packages/joblib/parallel.py:1792\u001b[0m, in \u001b[0;36mParallel._get_sequential_output\u001b[0;34m(self, iterable)\u001b[0m\n\u001b[1;32m   1790\u001b[0m \u001b[38;5;28mself\u001b[39m\u001b[38;5;241m.\u001b[39mn_dispatched_batches \u001b[38;5;241m+\u001b[39m\u001b[38;5;241m=\u001b[39m \u001b[38;5;241m1\u001b[39m\n\u001b[1;32m   1791\u001b[0m \u001b[38;5;28mself\u001b[39m\u001b[38;5;241m.\u001b[39mn_dispatched_tasks \u001b[38;5;241m+\u001b[39m\u001b[38;5;241m=\u001b[39m \u001b[38;5;241m1\u001b[39m\n\u001b[0;32m-> 1792\u001b[0m res \u001b[38;5;241m=\u001b[39m \u001b[43mfunc\u001b[49m\u001b[43m(\u001b[49m\u001b[38;5;241;43m*\u001b[39;49m\u001b[43margs\u001b[49m\u001b[43m,\u001b[49m\u001b[43m \u001b[49m\u001b[38;5;241;43m*\u001b[39;49m\u001b[38;5;241;43m*\u001b[39;49m\u001b[43mkwargs\u001b[49m\u001b[43m)\u001b[49m\n\u001b[1;32m   1793\u001b[0m \u001b[38;5;28mself\u001b[39m\u001b[38;5;241m.\u001b[39mn_completed_tasks \u001b[38;5;241m+\u001b[39m\u001b[38;5;241m=\u001b[39m \u001b[38;5;241m1\u001b[39m\n\u001b[1;32m   1794\u001b[0m \u001b[38;5;28mself\u001b[39m\u001b[38;5;241m.\u001b[39mprint_progress()\n",
      "File \u001b[0;32m~/.local/share/virtualenvs/Highly_Adaptive_Ridge-awx9OXbz/lib/python3.11/site-packages/sklearn/utils/parallel.py:129\u001b[0m, in \u001b[0;36m_FuncWrapper.__call__\u001b[0;34m(self, *args, **kwargs)\u001b[0m\n\u001b[1;32m    127\u001b[0m     config \u001b[38;5;241m=\u001b[39m {}\n\u001b[1;32m    128\u001b[0m \u001b[38;5;28;01mwith\u001b[39;00m config_context(\u001b[38;5;241m*\u001b[39m\u001b[38;5;241m*\u001b[39mconfig):\n\u001b[0;32m--> 129\u001b[0m     \u001b[38;5;28;01mreturn\u001b[39;00m \u001b[38;5;28;43mself\u001b[39;49m\u001b[38;5;241;43m.\u001b[39;49m\u001b[43mfunction\u001b[49m\u001b[43m(\u001b[49m\u001b[38;5;241;43m*\u001b[39;49m\u001b[43margs\u001b[49m\u001b[43m,\u001b[49m\u001b[43m \u001b[49m\u001b[38;5;241;43m*\u001b[39;49m\u001b[38;5;241;43m*\u001b[39;49m\u001b[43mkwargs\u001b[49m\u001b[43m)\u001b[49m\n",
      "File \u001b[0;32m~/.local/share/virtualenvs/Highly_Adaptive_Ridge-awx9OXbz/lib/python3.11/site-packages/sklearn/linear_model/_coordinate_descent.py:1437\u001b[0m, in \u001b[0;36m_path_residuals\u001b[0;34m(X, y, sample_weight, train, test, fit_intercept, path, path_params, alphas, l1_ratio, X_order, dtype)\u001b[0m\n\u001b[1;32m   1434\u001b[0m \u001b[38;5;66;03m# Do the ordering and type casting here, as if it is done in the path,\u001b[39;00m\n\u001b[1;32m   1435\u001b[0m \u001b[38;5;66;03m# X is copied and a reference is kept here\u001b[39;00m\n\u001b[1;32m   1436\u001b[0m X_train \u001b[38;5;241m=\u001b[39m check_array(X_train, accept_sparse\u001b[38;5;241m=\u001b[39m\u001b[38;5;124m\"\u001b[39m\u001b[38;5;124mcsc\u001b[39m\u001b[38;5;124m\"\u001b[39m, dtype\u001b[38;5;241m=\u001b[39mdtype, order\u001b[38;5;241m=\u001b[39mX_order)\n\u001b[0;32m-> 1437\u001b[0m alphas, coefs, _ \u001b[38;5;241m=\u001b[39m \u001b[43mpath\u001b[49m\u001b[43m(\u001b[49m\u001b[43mX_train\u001b[49m\u001b[43m,\u001b[49m\u001b[43m \u001b[49m\u001b[43my_train\u001b[49m\u001b[43m,\u001b[49m\u001b[43m \u001b[49m\u001b[38;5;241;43m*\u001b[39;49m\u001b[38;5;241;43m*\u001b[39;49m\u001b[43mpath_params\u001b[49m\u001b[43m)\u001b[49m\n\u001b[1;32m   1438\u001b[0m \u001b[38;5;28;01mdel\u001b[39;00m X_train, y_train\n\u001b[1;32m   1440\u001b[0m \u001b[38;5;28;01mif\u001b[39;00m y\u001b[38;5;241m.\u001b[39mndim \u001b[38;5;241m==\u001b[39m \u001b[38;5;241m1\u001b[39m:\n\u001b[1;32m   1441\u001b[0m     \u001b[38;5;66;03m# Doing this so that it becomes coherent with multioutput.\u001b[39;00m\n",
      "File \u001b[0;32m~/.local/share/virtualenvs/Highly_Adaptive_Ridge-awx9OXbz/lib/python3.11/site-packages/sklearn/utils/_param_validation.py:186\u001b[0m, in \u001b[0;36mvalidate_params.<locals>.decorator.<locals>.wrapper\u001b[0;34m(*args, **kwargs)\u001b[0m\n\u001b[1;32m    184\u001b[0m global_skip_validation \u001b[38;5;241m=\u001b[39m get_config()[\u001b[38;5;124m\"\u001b[39m\u001b[38;5;124mskip_parameter_validation\u001b[39m\u001b[38;5;124m\"\u001b[39m]\n\u001b[1;32m    185\u001b[0m \u001b[38;5;28;01mif\u001b[39;00m global_skip_validation:\n\u001b[0;32m--> 186\u001b[0m     \u001b[38;5;28;01mreturn\u001b[39;00m \u001b[43mfunc\u001b[49m\u001b[43m(\u001b[49m\u001b[38;5;241;43m*\u001b[39;49m\u001b[43margs\u001b[49m\u001b[43m,\u001b[49m\u001b[43m \u001b[49m\u001b[38;5;241;43m*\u001b[39;49m\u001b[38;5;241;43m*\u001b[39;49m\u001b[43mkwargs\u001b[49m\u001b[43m)\u001b[49m\n\u001b[1;32m    188\u001b[0m func_sig \u001b[38;5;241m=\u001b[39m signature(func)\n\u001b[1;32m    190\u001b[0m \u001b[38;5;66;03m# Map *args/**kwargs to the function signature\u001b[39;00m\n",
      "File \u001b[0;32m~/.local/share/virtualenvs/Highly_Adaptive_Ridge-awx9OXbz/lib/python3.11/site-packages/sklearn/linear_model/_coordinate_descent.py:361\u001b[0m, in \u001b[0;36mlasso_path\u001b[0;34m(X, y, eps, n_alphas, alphas, precompute, Xy, copy_X, coef_init, verbose, return_n_iter, positive, **params)\u001b[0m\n\u001b[1;32m    188\u001b[0m \u001b[38;5;129m@validate_params\u001b[39m(\n\u001b[1;32m    189\u001b[0m     {\n\u001b[1;32m    190\u001b[0m         \u001b[38;5;124m\"\u001b[39m\u001b[38;5;124mX\u001b[39m\u001b[38;5;124m\"\u001b[39m: [\u001b[38;5;124m\"\u001b[39m\u001b[38;5;124marray-like\u001b[39m\u001b[38;5;124m\"\u001b[39m, \u001b[38;5;124m\"\u001b[39m\u001b[38;5;124msparse matrix\u001b[39m\u001b[38;5;124m\"\u001b[39m],\n\u001b[0;32m   (...)\u001b[0m\n\u001b[1;32m    219\u001b[0m     \u001b[38;5;241m*\u001b[39m\u001b[38;5;241m*\u001b[39mparams,\n\u001b[1;32m    220\u001b[0m ):\n\u001b[1;32m    221\u001b[0m \u001b[38;5;250m    \u001b[39m\u001b[38;5;124;03m\"\"\"Compute Lasso path with coordinate descent.\u001b[39;00m\n\u001b[1;32m    222\u001b[0m \n\u001b[1;32m    223\u001b[0m \u001b[38;5;124;03m    The Lasso optimization function varies for mono and multi-outputs.\u001b[39;00m\n\u001b[0;32m   (...)\u001b[0m\n\u001b[1;32m    359\u001b[0m \u001b[38;5;124;03m     [0.2159048  0.4425765  0.23668876]]\u001b[39;00m\n\u001b[1;32m    360\u001b[0m \u001b[38;5;124;03m    \"\"\"\u001b[39;00m\n\u001b[0;32m--> 361\u001b[0m     \u001b[38;5;28;01mreturn\u001b[39;00m \u001b[43menet_path\u001b[49m\u001b[43m(\u001b[49m\n\u001b[1;32m    362\u001b[0m \u001b[43m        \u001b[49m\u001b[43mX\u001b[49m\u001b[43m,\u001b[49m\n\u001b[1;32m    363\u001b[0m \u001b[43m        \u001b[49m\u001b[43my\u001b[49m\u001b[43m,\u001b[49m\n\u001b[1;32m    364\u001b[0m \u001b[43m        \u001b[49m\u001b[43ml1_ratio\u001b[49m\u001b[38;5;241;43m=\u001b[39;49m\u001b[38;5;241;43m1.0\u001b[39;49m\u001b[43m,\u001b[49m\n\u001b[1;32m    365\u001b[0m \u001b[43m        \u001b[49m\u001b[43meps\u001b[49m\u001b[38;5;241;43m=\u001b[39;49m\u001b[43meps\u001b[49m\u001b[43m,\u001b[49m\n\u001b[1;32m    366\u001b[0m \u001b[43m        \u001b[49m\u001b[43mn_alphas\u001b[49m\u001b[38;5;241;43m=\u001b[39;49m\u001b[43mn_alphas\u001b[49m\u001b[43m,\u001b[49m\n\u001b[1;32m    367\u001b[0m \u001b[43m        \u001b[49m\u001b[43malphas\u001b[49m\u001b[38;5;241;43m=\u001b[39;49m\u001b[43malphas\u001b[49m\u001b[43m,\u001b[49m\n\u001b[1;32m    368\u001b[0m \u001b[43m        \u001b[49m\u001b[43mprecompute\u001b[49m\u001b[38;5;241;43m=\u001b[39;49m\u001b[43mprecompute\u001b[49m\u001b[43m,\u001b[49m\n\u001b[1;32m    369\u001b[0m \u001b[43m        \u001b[49m\u001b[43mXy\u001b[49m\u001b[38;5;241;43m=\u001b[39;49m\u001b[43mXy\u001b[49m\u001b[43m,\u001b[49m\n\u001b[1;32m    370\u001b[0m \u001b[43m        \u001b[49m\u001b[43mcopy_X\u001b[49m\u001b[38;5;241;43m=\u001b[39;49m\u001b[43mcopy_X\u001b[49m\u001b[43m,\u001b[49m\n\u001b[1;32m    371\u001b[0m \u001b[43m        \u001b[49m\u001b[43mcoef_init\u001b[49m\u001b[38;5;241;43m=\u001b[39;49m\u001b[43mcoef_init\u001b[49m\u001b[43m,\u001b[49m\n\u001b[1;32m    372\u001b[0m \u001b[43m        \u001b[49m\u001b[43mverbose\u001b[49m\u001b[38;5;241;43m=\u001b[39;49m\u001b[43mverbose\u001b[49m\u001b[43m,\u001b[49m\n\u001b[1;32m    373\u001b[0m \u001b[43m        \u001b[49m\u001b[43mpositive\u001b[49m\u001b[38;5;241;43m=\u001b[39;49m\u001b[43mpositive\u001b[49m\u001b[43m,\u001b[49m\n\u001b[1;32m    374\u001b[0m \u001b[43m        \u001b[49m\u001b[43mreturn_n_iter\u001b[49m\u001b[38;5;241;43m=\u001b[39;49m\u001b[43mreturn_n_iter\u001b[49m\u001b[43m,\u001b[49m\n\u001b[1;32m    375\u001b[0m \u001b[43m        \u001b[49m\u001b[38;5;241;43m*\u001b[39;49m\u001b[38;5;241;43m*\u001b[39;49m\u001b[43mparams\u001b[49m\u001b[43m,\u001b[49m\n\u001b[1;32m    376\u001b[0m \u001b[43m    \u001b[49m\u001b[43m)\u001b[49m\n",
      "File \u001b[0;32m~/.local/share/virtualenvs/Highly_Adaptive_Ridge-awx9OXbz/lib/python3.11/site-packages/sklearn/utils/_param_validation.py:186\u001b[0m, in \u001b[0;36mvalidate_params.<locals>.decorator.<locals>.wrapper\u001b[0;34m(*args, **kwargs)\u001b[0m\n\u001b[1;32m    184\u001b[0m global_skip_validation \u001b[38;5;241m=\u001b[39m get_config()[\u001b[38;5;124m\"\u001b[39m\u001b[38;5;124mskip_parameter_validation\u001b[39m\u001b[38;5;124m\"\u001b[39m]\n\u001b[1;32m    185\u001b[0m \u001b[38;5;28;01mif\u001b[39;00m global_skip_validation:\n\u001b[0;32m--> 186\u001b[0m     \u001b[38;5;28;01mreturn\u001b[39;00m \u001b[43mfunc\u001b[49m\u001b[43m(\u001b[49m\u001b[38;5;241;43m*\u001b[39;49m\u001b[43margs\u001b[49m\u001b[43m,\u001b[49m\u001b[43m \u001b[49m\u001b[38;5;241;43m*\u001b[39;49m\u001b[38;5;241;43m*\u001b[39;49m\u001b[43mkwargs\u001b[49m\u001b[43m)\u001b[49m\n\u001b[1;32m    188\u001b[0m func_sig \u001b[38;5;241m=\u001b[39m signature(func)\n\u001b[1;32m    190\u001b[0m \u001b[38;5;66;03m# Map *args/**kwargs to the function signature\u001b[39;00m\n",
      "File \u001b[0;32m~/.local/share/virtualenvs/Highly_Adaptive_Ridge-awx9OXbz/lib/python3.11/site-packages/sklearn/linear_model/_coordinate_descent.py:678\u001b[0m, in \u001b[0;36menet_path\u001b[0;34m(X, y, l1_ratio, eps, n_alphas, alphas, precompute, Xy, copy_X, coef_init, verbose, return_n_iter, positive, check_input, **params)\u001b[0m\n\u001b[1;32m    664\u001b[0m     model \u001b[38;5;241m=\u001b[39m cd_fast\u001b[38;5;241m.\u001b[39menet_coordinate_descent_gram(\n\u001b[1;32m    665\u001b[0m         coef_,\n\u001b[1;32m    666\u001b[0m         l1_reg,\n\u001b[0;32m   (...)\u001b[0m\n\u001b[1;32m    675\u001b[0m         positive,\n\u001b[1;32m    676\u001b[0m     )\n\u001b[1;32m    677\u001b[0m \u001b[38;5;28;01melif\u001b[39;00m precompute \u001b[38;5;129;01mis\u001b[39;00m \u001b[38;5;28;01mFalse\u001b[39;00m:\n\u001b[0;32m--> 678\u001b[0m     model \u001b[38;5;241m=\u001b[39m \u001b[43mcd_fast\u001b[49m\u001b[38;5;241;43m.\u001b[39;49m\u001b[43menet_coordinate_descent\u001b[49m\u001b[43m(\u001b[49m\n\u001b[1;32m    679\u001b[0m \u001b[43m        \u001b[49m\u001b[43mcoef_\u001b[49m\u001b[43m,\u001b[49m\u001b[43m \u001b[49m\u001b[43ml1_reg\u001b[49m\u001b[43m,\u001b[49m\u001b[43m \u001b[49m\u001b[43ml2_reg\u001b[49m\u001b[43m,\u001b[49m\u001b[43m \u001b[49m\u001b[43mX\u001b[49m\u001b[43m,\u001b[49m\u001b[43m \u001b[49m\u001b[43my\u001b[49m\u001b[43m,\u001b[49m\u001b[43m \u001b[49m\u001b[43mmax_iter\u001b[49m\u001b[43m,\u001b[49m\u001b[43m \u001b[49m\u001b[43mtol\u001b[49m\u001b[43m,\u001b[49m\u001b[43m \u001b[49m\u001b[43mrng\u001b[49m\u001b[43m,\u001b[49m\u001b[43m \u001b[49m\u001b[43mrandom\u001b[49m\u001b[43m,\u001b[49m\u001b[43m \u001b[49m\u001b[43mpositive\u001b[49m\n\u001b[1;32m    680\u001b[0m \u001b[43m    \u001b[49m\u001b[43m)\u001b[49m\n\u001b[1;32m    681\u001b[0m \u001b[38;5;28;01melse\u001b[39;00m:\n\u001b[1;32m    682\u001b[0m     \u001b[38;5;28;01mraise\u001b[39;00m \u001b[38;5;167;01mValueError\u001b[39;00m(\n\u001b[1;32m    683\u001b[0m         \u001b[38;5;124m\"\u001b[39m\u001b[38;5;124mPrecompute should be one of True, False, \u001b[39m\u001b[38;5;124m'\u001b[39m\u001b[38;5;124mauto\u001b[39m\u001b[38;5;124m'\u001b[39m\u001b[38;5;124m or array-like. Got \u001b[39m\u001b[38;5;132;01m%r\u001b[39;00m\u001b[38;5;124m\"\u001b[39m\n\u001b[1;32m    684\u001b[0m         \u001b[38;5;241m%\u001b[39m precompute\n\u001b[1;32m    685\u001b[0m     )\n",
      "\u001b[0;31mKeyboardInterrupt\u001b[0m: "
     ]
    }
   ],
   "source": [
    "import time\n",
    "import matplotlib.pyplot as plt\n",
    "\n",
    "# Sample sizes to test\n",
    "# sample_sizes = [100, 500, 1000, 2000]\n",
    "d = 3\n",
    "sample_sizes = [100, 250, 500, 750, 1000]\n",
    "\n",
    "# Initialize a dictionary to store runtimes\n",
    "runtimes = {\n",
    "    'HAL': {d: [] for d in sample_sizes},\n",
    "    'HAR': {d: [] for d in sample_sizes}\n",
    "}\n",
    "\n",
    "# Loop over each DGP\n",
    "for dgp in dgp_list:\n",
    "    # Loop over each sample size\n",
    "    for n in sample_sizes:\n",
    "        print(f'Running for {dgp.__name__} with sample size: {n}')\n",
    "        \n",
    "        # Generate data\n",
    "        X, Y = dgp.generate_data(n, d)\n",
    "        X_train, X_test, Y_train, Y_test = train_test_split(X, Y, test_size=0.9, random_state=42)\n",
    "\n",
    "        # HAL\n",
    "        hal = HAL()\n",
    "        start_time = time.time()\n",
    "        hal.fit(X_train, Y_train)\n",
    "        hal_time = time.time() - start_time\n",
    "        runtimes['HAL'][n].append(hal_time)\n",
    "\n",
    "        # HAR\n",
    "        har = HAR()\n",
    "        start_time = time.time()\n",
    "        har.fit(X_train, Y_train)\n",
    "        har_time = time.time() - start_time\n",
    "        runtimes['HAR'][n].append(har_time)\n",
    "\n",
    "# Now plot the runtimes\n",
    "for model, data in runtimes.items():\n",
    "    plt.figure(figsize=(10, 5))\n",
    "    plt.title(f'Runtime vs Sample Size for {model}, d = {d}')\n",
    "    plt.xlabel('Sample Size')\n",
    "    plt.ylabel('Runtime (seconds)')\n",
    "    sample_sizes_sorted = sorted(data.keys())\n",
    "    runtimes_avg = [np.mean(data[size]) for size in sample_sizes_sorted]\n",
    "    plt.plot(sample_sizes_sorted, runtimes_avg, marker='o', label=model)\n",
    "    plt.legend()\n",
    "    plt.show()\n"
   ]
  },
  {
   "cell_type": "code",
   "execution_count": 4,
   "id": "3b8a605c-030f-439a-a40f-03c90735a0b9",
   "metadata": {
    "execution": {
     "iopub.execute_input": "2023-11-07T19:56:44.728874Z",
     "iopub.status.busy": "2023-11-07T19:56:44.728248Z",
     "iopub.status.idle": "2023-11-07T19:56:44.734074Z",
     "shell.execute_reply": "2023-11-07T19:56:44.733363Z",
     "shell.execute_reply.started": "2023-11-07T19:56:44.728850Z"
    }
   },
   "outputs": [],
   "source": [
    "\n",
    "# # this displays the alpha values that were used in the LassoCV\n",
    "# # NOTE: alpha refers to the regularization parameter (?)\n",
    "# # TODO: Ask Alejandro about this\n",
    "# alphas = model.lasso.alphas_\n",
    "# alpha = model.lasso.alpha_"
   ]
  },
  {
   "cell_type": "code",
   "execution_count": 7,
   "id": "56c460c0",
   "metadata": {},
   "outputs": [
    {
     "data": {
      "image/png": "[encoded data removed]",
      "text/plain": [
       "<Figure size 1000x500 with 1 Axes>"
      ]
     },
     "metadata": {},
     "output_type": "display_data"
    },
    {
     "data": {
      "image/png": "[encoded data removed]",
      "text/plain": [
       "<Figure size 1000x500 with 1 Axes>"
      ]
     },
     "metadata": {},
     "output_type": "display_data"
    }
   ],
   "source": [
    "import numpy as np\n",
    "import matplotlib.pyplot as plt\n",
    "from sklearn.model_selection import train_test_split\n",
    "from sklearn.metrics import mean_squared_error\n",
    "\n",
    "# Sample sizes to test\n",
    "sample_sizes = [100, 500, 1000, 2000]\n",
    "\n",
    "# Initialize a dictionary to store runtimes & MSEs for each model\n",
    "runtimes = {\n",
    "    'HAL': [],\n",
    "    'HAR': []\n",
    "}\n",
    "mses = {\n",
    "    'HAL': [],\n",
    "    'HAR': []\n",
    "}\n",
    "\n",
    "# Loop over each sample size\n",
    "for n in sample_sizes:\n",
    "    # Initialize accumulators for runtimes and MSEs\n",
    "    hal_times, har_times = [], []\n",
    "    hal_mses, har_mses = [], []\n",
    "\n",
    "    # Loop over each DGP\n",
    "    for dgp in dgp_list:\n",
    "        # Generate data\n",
    "        X, Y = dgp.generate_data(n, max(d_sizes))\n",
    "        X_train, X_test, Y_train, Y_test = train_test_split(X, Y, test_size=0.9, random_state=42)\n",
    "\n",
    "        # Fit HAL for given DGP, N, recording runtime and MSE\n",
    "        hal = HAL()\n",
    "        start_time = time.time()\n",
    "        hal.fit(X_train, Y_train)\n",
    "        hal_times.append(time.time() - start_time)\n",
    "        hal_mse = mean_squared_error(Y_test, hal.predict(X_test))\n",
    "        hal_mses.append(hal_mse)\n",
    "\n",
    "\n",
    "        # Fit HAr for given DGP, N, recording runtime and MSE\n",
    "        har = HAR()\n",
    "        start_time = time.time()\n",
    "        har.fit(X_train, Y_train)\n",
    "        har_times.append(time.time() - start_time)\n",
    "        har_mse = mean_squared_error(Y_test, har.predict(X_test))\n",
    "        har_mses.append(har_mse)\n",
    "\n",
    "    # Store the average runtime and MSE for each model across all DGPs\n",
    "    runtimes['HAL'].append(np.mean(hal_times))\n",
    "    runtimes['HAR'].append(np.mean(har_times))\n",
    "    mses['HAL'].append(np.mean(hal_mses))\n",
    "    mses['HAR'].append(np.mean(har_mses))\n",
    "\n",
    "# Plot Ave R.T. vs N (d=5, time averaged for each DGP for each N)\n",
    "plt.figure(figsize=(10, 5))\n",
    "colors = ['blue', 'green']\n",
    "model_names = ['HAL', 'HAR']\n",
    "\n",
    "# Loop through each model and plot with a different color\n",
    "for i, model in enumerate(model_names):\n",
    "    plt.plot(sample_sizes, runtimes[model], marker='o', label=model, color=colors[i])\n",
    "\n",
    "plt.title(f'Ave R.T. vs N (d={5}, time averaged for each DGP for each N)')\n",
    "plt.xlabel('Sample Size')\n",
    "plt.ylabel('Average Runtime (seconds)')\n",
    "plt.legend()\n",
    "plt.grid(True)\n",
    "plt.show()\n",
    "\n",
    "# Plotting MSE vs N \n",
    "plt.figure(figsize=(10, 5))\n",
    "for model, errors in mses.items():\n",
    "    plt.plot(sample_sizes, errors, marker='s', label=f'{model} MSE')\n",
    "\n",
    "plt.title('Average MSE vs Sample Size')\n",
    "plt.xlabel('Sample Size')\n",
    "plt.ylabel('Average MSE')\n",
    "plt.legend()\n",
    "plt.grid(True)\n",
    "plt.show()"
   ]
  },
  {
   "cell_type": "markdown",
   "id": "e4795c3c",
   "metadata": {},
   "source": [
    "Training and evaluation"
   ]
  },
  {
   "cell_type": "code",
   "execution_count": 5,
   "id": "242d229a-5437-43e6-920c-8fd360f9a43f",
   "metadata": {
    "execution": {
     "iopub.execute_input": "2023-11-07T19:56:54.503828Z",
     "iopub.status.busy": "2023-11-07T19:56:54.503472Z",
     "iopub.status.idle": "2023-11-07T19:56:54.508911Z",
     "shell.execute_reply": "2023-11-07T19:56:54.508275Z",
     "shell.execute_reply.started": "2023-11-07T19:56:54.503802Z"
    }
   },
   "outputs": [],
   "source": [
    "from sklearn.metrics import mean_squared_error\n",
    "import time\n",
    "\n",
    "# Initialize models\n",
    "hal = HAL() \n",
    "har = HAR()  \n",
    "\n",
    "# Fit models and record computation time\n",
    "start_time = time.time()\n",
    "hal.fit(X_train, y_train)\n",
    "hal_time = time.time() - start_time\n",
    "\n",
    "start_time = time.time()\n",
    "har.fit(X_train, y_train)\n",
    "har_time = time.time() - start_time\n",
    "\n",
    "# Evaluate models\n",
    "hal_mse = mean_squared_error(y_test, hal.predict(X_test))\n",
    "har_mse = mean_squared_error(y_test, har.predict(X_test))"
   ]
  },
  {
   "cell_type": "code",
   "execution_count": 6,
   "id": "1cbe5159-e089-4375-8cc2-9cbb61243548",
   "metadata": {
    "execution": {
     "iopub.execute_input": "2023-11-07T19:56:00.241081Z",
     "iopub.status.busy": "2023-11-07T19:56:00.240769Z",
     "iopub.status.idle": "2023-11-07T19:56:06.264620Z",
     "shell.execute_reply": "2023-11-07T19:56:06.264293Z",
     "shell.execute_reply.started": "2023-11-07T19:56:00.241061Z"
    }
   },
   "outputs": [
    {
     "name": "stdout",
     "output_type": "stream",
     "text": [
      "HAL MSE:  1.3248696023454873\n",
      "HAR MSE:  1.1878823745413873\n",
      "HAL time:  0.011644124984741211\n",
      "HAR time:  0.0008082389831542969\n"
     ]
    }
   ],
   "source": [
    "# Display results\n",
    "print(\"HAL MSE: \", hal_mse)\n",
    "print(\"HAR MSE: \", har_mse)\n",
    "print(\"HAL time: \", hal_time)\n",
    "print(\"HAR time: \", har_time)\n"
   ]
  },
  {
   "cell_type": "code",
   "execution_count": 7,
   "id": "b617dedb",
   "metadata": {},
   "outputs": [],
   "source": [
    "# Now, let's try using sklearn make_regression to generate data! \n",
    "# This will give me more flexibility in the number of samples, features, etc. without having to modify the DataGenerator class\n",
    "from sklearn.datasets import make_regression\n",
    "from sklearn.model_selection import train_test_split\n",
    "\n",
    "num_samples = 100\n",
    "\n",
    "# Generate synthetic data using make_regression\n",
    "X, Y = make_regression(n_samples=num_samples, n_features=3, noise=0.1)\n",
    "\n",
    "# from data_generator import DataGenerator\n",
    "# X, Y = DataGenerator.generate_data(num_samples)\n",
    "\n",
    "test_size = 0.9 # use 90% of the data for training\n",
    "X_train, X_test, y_train, y_test = train_test_split(X, Y, test_size=test_size, random_state=42)"
   ]
  },
  {
   "cell_type": "code",
   "execution_count": 8,
   "id": "99211163",
   "metadata": {},
   "outputs": [],
   "source": [
    "# Fit models and record computation time\n",
    "start_time = time.time()\n",
    "hal.fit(X_train, y_train)\n",
    "hal_time = time.time() - start_time\n",
    "\n",
    "start_time = time.time()\n",
    "har.fit(X_train, y_train)\n",
    "har_time = time.time() - start_time\n",
    "\n",
    "# Evaluate models\n",
    "hal_mse = mean_squared_error(y_test, hal.predict(X_test))\n",
    "har_mse = mean_squared_error(y_test, har.predict(X_test))"
   ]
  },
  {
   "cell_type": "code",
   "execution_count": 9,
   "id": "65254aba",
   "metadata": {},
   "outputs": [
    {
     "name": "stdout",
     "output_type": "stream",
     "text": [
      "HAL MSE:  5512.560510604352\n",
      "HAR MSE:  3249.1976333066077\n",
      "HAL time:  0.015147209167480469\n",
      "HAR time:  0.0006997585296630859\n"
     ]
    }
   ],
   "source": [
    "# Display results\n",
    "print(\"HAL MSE: \", hal_mse)\n",
    "print(\"HAR MSE: \", har_mse)\n",
    "print(\"HAL time: \", hal_time)\n",
    "print(\"HAR time: \", har_time)"
   ]
  },
  {
   "cell_type": "code",
   "execution_count": null,
   "id": "3375b119",
   "metadata": {},
   "outputs": [],
   "source": []
  },
  {
   "cell_type": "code",
   "execution_count": null,
   "id": "2e81699e",
   "metadata": {},
   "outputs": [],
   "source": []
  },
  {
   "cell_type": "code",
   "execution_count": null,
   "id": "9d38783e",
   "metadata": {},
   "outputs": [],
   "source": []
  }
 ],
 "metadata": {
  "kernelspec": {
   "display_name": "Python 3",
   "language": "python",
   "name": "python3"
  },
  "language_info": {
   "codemirror_mode": {
    "name": "ipython",
    "version": 3
   },
   "file_extension": ".py",
   "mimetype": "text/x-python",
   "name": "python",
   "nbconvert_exporter": "python",
   "pygments_lexer": "ipython3",
   "version": "3.11.6"
  }
 },
 "nbformat": 4,
 "nbformat_minor": 5
}
