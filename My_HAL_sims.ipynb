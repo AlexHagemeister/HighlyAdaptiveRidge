{
 "cells": [
  {
   "cell_type": "markdown",
   "id": "63021c2c",
   "metadata": {},
   "source": [
    "Hal class definition"
   ]
  },
  {
   "cell_type": "code",
   "execution_count": 1,
   "id": "a6286fd0-06c5-4966-8e5e-a5ef9d2eb851",
   "metadata": {
    "execution": {
     "iopub.execute_input": "2023-11-07T19:55:47.607072Z",
     "iopub.status.busy": "2023-11-07T19:55:47.606725Z",
     "iopub.status.idle": "2023-11-07T19:55:47.615033Z",
     "shell.execute_reply": "2023-11-07T19:55:47.614286Z",
     "shell.execute_reply.started": "2023-11-07T19:55:47.607050Z"
    }
   },
   "outputs": [],
   "source": [
    "from highly_adaptive_lasso import HAL\n",
    "from highly_adaptive_ridge import HAR\n",
    "\n",
    "\n",
    "from sklearn.linear_model import Lasso, LassoCV, RidgeCV\n",
    "import numpy as np\n",
    "from data_generator import DataGenerator\n",
    "from sklearn.model_selection import train_test_split\n",
    "\n",
    "# cannot resolve in pipenv - BUT WHY?!? using base for now\n",
    "import pandas as pd \n",
    "import matplotlib.pyplot as plt"
   ]
  },
  {
   "cell_type": "markdown",
   "id": "3286021e",
   "metadata": {},
   "source": [
    "Let's generate some data!"
   ]
  },
  {
   "cell_type": "code",
   "execution_count": 3,
   "id": "bb1db3fe-f02e-4a2c-9551-2c48671f7251",
   "metadata": {
    "execution": {
     "iopub.execute_input": "2023-11-07T19:55:59.641552Z",
     "iopub.status.busy": "2023-11-07T19:55:59.640794Z",
     "iopub.status.idle": "2023-11-07T19:55:59.646582Z",
     "shell.execute_reply": "2023-11-07T19:55:59.645869Z",
     "shell.execute_reply.started": "2023-11-07T19:55:59.641516Z"
    }
   },
   "outputs": [],
   "source": [
    "num_samples = 1000\n",
    "\n",
    "# Generate synthetic data using the DataGenerator class (from Alejandro)\n",
    "X, Y = DataGenerator.generate_data(num_samples)\n",
    "\n",
    "# Split the data into training and testing sets\n",
    "test_size = 0.9 # use 90% of the data for training\n",
    "X_train, X_test, Y_train, Y_test = train_test_split(X, Y, test_size=test_size, random_state=42)"
   ]
  },
  {
   "cell_type": "code",
   "execution_count": 6,
   "id": "3b8a605c-030f-439a-a40f-03c90735a0b9",
   "metadata": {
    "execution": {
     "iopub.execute_input": "2023-11-07T19:56:44.728874Z",
     "iopub.status.busy": "2023-11-07T19:56:44.728248Z",
     "iopub.status.idle": "2023-11-07T19:56:44.734074Z",
     "shell.execute_reply": "2023-11-07T19:56:44.733363Z",
     "shell.execute_reply.started": "2023-11-07T19:56:44.728850Z"
    }
   },
   "outputs": [],
   "source": [
    "\n",
    "# # this displays the alpha values that were used in the LassoCV\n",
    "# # NOTE: alpha refers to the regularization parameter (?)\n",
    "# # TODO: Ask Alejandro about this\n",
    "# alphas = model.lasso.alphas_\n",
    "# alpha = model.lasso.alpha_"
   ]
  },
  {
   "cell_type": "code",
   "execution_count": 14,
   "id": "242d229a-5437-43e6-920c-8fd360f9a43f",
   "metadata": {
    "execution": {
     "iopub.execute_input": "2023-11-07T19:56:54.503828Z",
     "iopub.status.busy": "2023-11-07T19:56:54.503472Z",
     "iopub.status.idle": "2023-11-07T19:56:54.508911Z",
     "shell.execute_reply": "2023-11-07T19:56:54.508275Z",
     "shell.execute_reply.started": "2023-11-07T19:56:54.503802Z"
    }
   },
   "outputs": [],
   "source": [
    "# Initialize models\n",
    "hal = HAL() \n",
    "har = HAR()  \n",
    "\n",
    "# Fit models and record computation time\n",
    "start_time = time.time()\n",
    "hal.fit(X_train, y_train)\n",
    "hal_time = time.time() - start_time\n",
    "\n",
    "start_time = time.time()\n",
    "har.fit(X_train, y_train)\n",
    "har_time = time.time() - start_time\n",
    "\n",
    "# Evaluate models\n",
    "hal_mse = mean_squared_error(y_test, hal.predict(X_test))\n",
    "har_mse = mean_squared_error(y_test, har.predict(X_test))"
   ]
  },
  {
   "cell_type": "code",
   "execution_count": null,
   "id": "1cbe5159-e089-4375-8cc2-9cbb61243548",
   "metadata": {
    "execution": {
     "iopub.execute_input": "2023-11-07T19:56:00.241081Z",
     "iopub.status.busy": "2023-11-07T19:56:00.240769Z",
     "iopub.status.idle": "2023-11-07T19:56:06.264620Z",
     "shell.execute_reply": "2023-11-07T19:56:06.264293Z",
     "shell.execute_reply.started": "2023-11-07T19:56:00.241061Z"
    }
   },
   "outputs": [],
   "source": []
  },
  {
   "cell_type": "code",
   "execution_count": null,
   "id": "fbb1b602-f94a-4864-939a-a0234b821b86",
   "metadata": {
    "execution": {
     "iopub.execute_input": "2023-11-07T19:56:08.290390Z",
     "iopub.status.busy": "2023-11-07T19:56:08.289839Z",
     "iopub.status.idle": "2023-11-07T19:56:08.307500Z",
     "shell.execute_reply": "2023-11-07T19:56:08.306907Z",
     "shell.execute_reply.started": "2023-11-07T19:56:08.290343Z"
    }
   },
   "outputs": [],
   "source": [
    "Ŷ = model.predict(X_test)"
   ]
  },
  {
   "cell_type": "code",
   "execution_count": null,
   "id": "cc5af46b-383d-44f3-8ad7-7141c5cecd9c",
   "metadata": {
    "execution": {
     "iopub.execute_input": "2023-11-07T19:56:08.739818Z",
     "iopub.status.busy": "2023-11-07T19:56:08.739183Z",
     "iopub.status.idle": "2023-11-07T19:56:08.745327Z",
     "shell.execute_reply": "2023-11-07T19:56:08.744676Z",
     "shell.execute_reply.started": "2023-11-07T19:56:08.739792Z"
    }
   },
   "outputs": [
    {
     "data": {
      "text/plain": [
       "1.354553701520526"
      ]
     },
     "execution_count": 8,
     "metadata": {},
     "output_type": "execute_result"
    }
   ],
   "source": [
    "np.mean((Y_test - Ŷ)**2)"
   ]
  },
  {
   "cell_type": "code",
   "execution_count": null,
   "id": "21f1c3c2",
   "metadata": {},
   "outputs": [],
   "source": [
    "from highly_adaptive_ridge import HAR\n",
    "\n",
    "ha_ridge = HAR()\n",
    "ha_ridge.fit(X,Y)\n",
    "Ŷ_ridge = ha_ridge.predict(X_test)\n",
    "np.mean((Y_test - Ŷ_ridge)**2)\n",
    "\n"
   ]
  },
  {
   "cell_type": "markdown",
   "id": "822a07cf",
   "metadata": {},
   "source": [
    "Running simulation..."
   ]
  },
  {
   "cell_type": "code",
   "execution_count": 1,
   "id": "561ce826",
   "metadata": {},
   "outputs": [
    {
     "ename": "",
     "evalue": "",
     "output_type": "error",
     "traceback": [
      "\u001b[1;31mThe Kernel crashed while executing code in the current cell or a previous cell. \n",
      "\u001b[1;31mPlease review the code in the cell(s) to identify a possible cause of the failure. \n",
      "\u001b[1;31mClick <a href='https://aka.ms/vscodeJupyterKernelCrash'>here</a> for more info. \n",
      "\u001b[1;31mView Jupyter <a href='command:jupyter.viewOutput'>log</a> for further details."
     ]
    }
   ],
   "source": []
  },
  {
   "cell_type": "code",
   "execution_count": null,
   "id": "b617dedb",
   "metadata": {},
   "outputs": [],
   "source": []
  },
  {
   "cell_type": "code",
   "execution_count": null,
   "id": "2e81699e",
   "metadata": {},
   "outputs": [],
   "source": []
  },
  {
   "cell_type": "code",
   "execution_count": null,
   "id": "9d38783e",
   "metadata": {},
   "outputs": [],
   "source": []
  }
 ],
 "metadata": {
  "kernelspec": {
   "display_name": "Python 3",
   "language": "python",
   "name": "python3"
  },
  "language_info": {
   "codemirror_mode": {
    "name": "ipython",
    "version": 3
   },
   "file_extension": ".py",
   "mimetype": "text/x-python",
   "name": "python",
   "nbconvert_exporter": "python",
   "pygments_lexer": "ipython3",
   "version": "3.11.5"
  }
 },
 "nbformat": 4,
 "nbformat_minor": 5
}
