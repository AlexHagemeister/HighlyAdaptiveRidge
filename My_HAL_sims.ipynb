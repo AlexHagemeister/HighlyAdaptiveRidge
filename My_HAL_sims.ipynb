{
 "cells": [
  {
   "cell_type": "markdown",
   "id": "63021c2c",
   "metadata": {},
   "source": [
    "Hal class definition"
   ]
  },
  {
   "cell_type": "code",
   "execution_count": 6,
   "id": "a6286fd0-06c5-4966-8e5e-a5ef9d2eb851",
   "metadata": {
    "execution": {
     "iopub.execute_input": "2023-11-07T19:55:47.607072Z",
     "iopub.status.busy": "2023-11-07T19:55:47.606725Z",
     "iopub.status.idle": "2023-11-07T19:55:47.615033Z",
     "shell.execute_reply": "2023-11-07T19:55:47.614286Z",
     "shell.execute_reply.started": "2023-11-07T19:55:47.607050Z"
    }
   },
   "outputs": [],
   "source": [
    "from highly_adaptive_lasso import HAL\n",
    "from highly_adaptive_ridge import HAR\n",
    "\n",
    "\n",
    "from sklearn.linear_model import Lasso, LassoCV, RidgeCV\n",
    "import numpy as np\n",
    "from data_generator import DataGenerator\n",
    "from sklearn.model_selection import train_test_split\n",
    "\n",
    "# cannot resolve in pipenv - BUT WHY?!? using base for now\n",
    "import pandas as pd \n",
    "import matplotlib.pyplot as plt"
   ]
  },
  {
   "cell_type": "markdown",
   "id": "3286021e",
   "metadata": {},
   "source": [
    "Let's generate some data!"
   ]
  },
  {
   "cell_type": "code",
   "execution_count": 7,
   "id": "bb1db3fe-f02e-4a2c-9551-2c48671f7251",
   "metadata": {
    "execution": {
     "iopub.execute_input": "2023-11-07T19:55:59.641552Z",
     "iopub.status.busy": "2023-11-07T19:55:59.640794Z",
     "iopub.status.idle": "2023-11-07T19:55:59.646582Z",
     "shell.execute_reply": "2023-11-07T19:55:59.645869Z",
     "shell.execute_reply.started": "2023-11-07T19:55:59.641516Z"
    }
   },
   "outputs": [],
   "source": [
    "num_samples = 1000\n",
    "\n",
    "# Generate synthetic data using the DataGenerator class (from Alejandro)\n",
    "X, Y = DataGenerator.generate_data(num_samples)\n",
    "\n",
    "# Split the data into training and testing sets\n",
    "test_size = 0.9 # use 90% of the data for training\n",
    "X_train, X_test, y_train, y_test = train_test_split(X, Y, test_size=test_size, random_state=42)"
   ]
  },
  {
   "cell_type": "code",
   "execution_count": 6,
   "id": "3b8a605c-030f-439a-a40f-03c90735a0b9",
   "metadata": {
    "execution": {
     "iopub.execute_input": "2023-11-07T19:56:44.728874Z",
     "iopub.status.busy": "2023-11-07T19:56:44.728248Z",
     "iopub.status.idle": "2023-11-07T19:56:44.734074Z",
     "shell.execute_reply": "2023-11-07T19:56:44.733363Z",
     "shell.execute_reply.started": "2023-11-07T19:56:44.728850Z"
    }
   },
   "outputs": [],
   "source": [
    "\n",
    "# # this displays the alpha values that were used in the LassoCV\n",
    "# # NOTE: alpha refers to the regularization parameter (?)\n",
    "# # TODO: Ask Alejandro about this\n",
    "# alphas = model.lasso.alphas_\n",
    "# alpha = model.lasso.alpha_"
   ]
  },
  {
   "cell_type": "markdown",
   "id": "e4795c3c",
   "metadata": {},
   "source": [
    "Training and evaluation"
   ]
  },
  {
   "cell_type": "code",
   "execution_count": 8,
   "id": "242d229a-5437-43e6-920c-8fd360f9a43f",
   "metadata": {
    "execution": {
     "iopub.execute_input": "2023-11-07T19:56:54.503828Z",
     "iopub.status.busy": "2023-11-07T19:56:54.503472Z",
     "iopub.status.idle": "2023-11-07T19:56:54.508911Z",
     "shell.execute_reply": "2023-11-07T19:56:54.508275Z",
     "shell.execute_reply.started": "2023-11-07T19:56:54.503802Z"
    }
   },
   "outputs": [],
   "source": [
    "from sklearn.metrics import mean_squared_error\n",
    "import time\n",
    "\n",
    "# Initialize models\n",
    "hal = HAL() \n",
    "har = HAR()  \n",
    "\n",
    "# Fit models and record computation time\n",
    "start_time = time.time()\n",
    "hal.fit(X_train, y_train)\n",
    "hal_time = time.time() - start_time\n",
    "\n",
    "start_time = time.time()\n",
    "har.fit(X_train, y_train)\n",
    "har_time = time.time() - start_time\n",
    "\n",
    "# Evaluate models\n",
    "hal_mse = mean_squared_error(y_test, hal.predict(X_test))\n",
    "har_mse = mean_squared_error(y_test, har.predict(X_test))"
   ]
  },
  {
   "cell_type": "code",
   "execution_count": 10,
   "id": "1cbe5159-e089-4375-8cc2-9cbb61243548",
   "metadata": {
    "execution": {
     "iopub.execute_input": "2023-11-07T19:56:00.241081Z",
     "iopub.status.busy": "2023-11-07T19:56:00.240769Z",
     "iopub.status.idle": "2023-11-07T19:56:06.264620Z",
     "shell.execute_reply": "2023-11-07T19:56:06.264293Z",
     "shell.execute_reply.started": "2023-11-07T19:56:00.241061Z"
    }
   },
   "outputs": [
    {
     "name": "stdout",
     "output_type": "stream",
     "text": [
      "HAL MSE:  1.3928847267876285\n",
      "HAR MSE:  1.1853674246535966\n",
      "HAL time:  42.82060885429382\n",
      "HAR time:  0.04938101768493652\n"
     ]
    }
   ],
   "source": [
    "# Display results\n",
    "print(\"HAL MSE: \", hal_mse)\n",
    "print(\"HAR MSE: \", har_mse)\n",
    "print(\"HAL time: \", hal_time)\n",
    "print(\"HAR time: \", har_time)\n"
   ]
  },
  {
   "cell_type": "code",
   "execution_count": null,
   "id": "b617dedb",
   "metadata": {},
   "outputs": [],
   "source": []
  },
  {
   "cell_type": "code",
   "execution_count": null,
   "id": "2e81699e",
   "metadata": {},
   "outputs": [],
   "source": []
  },
  {
   "cell_type": "code",
   "execution_count": null,
   "id": "9d38783e",
   "metadata": {},
   "outputs": [],
   "source": []
  }
 ],
 "metadata": {
  "kernelspec": {
   "display_name": "Python 3",
   "language": "python",
   "name": "python3"
  },
  "language_info": {
   "codemirror_mode": {
    "name": "ipython",
    "version": 3
   },
   "file_extension": ".py",
   "mimetype": "text/x-python",
   "name": "python",
   "nbconvert_exporter": "python",
   "pygments_lexer": "ipython3",
   "version": "3.11.5"
  }
 },
 "nbformat": 4,
 "nbformat_minor": 5
}
